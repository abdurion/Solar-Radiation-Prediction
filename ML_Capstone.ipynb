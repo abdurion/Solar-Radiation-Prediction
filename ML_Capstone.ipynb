{
 "cells": [
  {
   "cell_type": "markdown",
   "id": "87dae83e",
   "metadata": {},
   "source": [
    "<center>Solar Radiation Prediction</center>\n",
    "<center><sub>Machine Learning Capstone Project - Coding Dojo</sub></center>\n",
    "<br>\n",
    "\n",
    "<div style=\"text-align: justify\">In the last decade, humans focused on industrial development, discarding the thought of environmental matters. As a result,\n",
    "today, we are on the brink of an environmental crisis. Our actions have led us to face a global climate crisis due to climate\n",
    "changes. For instance, sea ice is rapidly thinning due to global warming. Hence, the Intergovernmental Panel of Climate Change\n",
    "(IPCC) formed the Net Zero World Initiative.<br><br>\n",
    "Being the second-largest oil producer in the world, the Kingdom of Saudi Arabia pledges to the IPCC's goal of decarbonizing the real estate portfolio of the Kingdom ahead of the IPCC's target date of net zero greenhouse gases emission by 2060 as part of its 2030 vision. Additionally, the Saudi national renewable energy program (NREP) aims to increase the Kingdom's share of renewable energy production to stabilize its sustainable economy and diversify its energy sources.<br><br>\n",
    "Given the solar abundance in Saudi Arabia, solar energy is the most feasible choice for renewable energy. This project explores solar irradiance data collected from the NASA earth observing system project to evaluate long-term climate trends to predict the Global Horizontal Irradiance (GHI) and ensure the fulfillment of the required energy production.</div>\n",
    "<br>\n",
    "<center>2B||!2B</center>\n",
    "<center>- Team Members -</center>\n",
    "<center>Abdulrahman Alqumaidy</center>\n",
    "<center>Hawra Alhulail</center>\n",
    "<center>Nawaf Althubaiti</center>\n",
    "<center>Rahaf Alhazmi</center>\n",
    "<center>Fatimah Aldajani</center>"
   ]
  },
  {
   "cell_type": "code",
   "execution_count": 1,
   "id": "Um13XLBU9tOK",
   "metadata": {
    "ExecuteTime": {
     "end_time": "2022-01-14T08:39:04.541261Z",
     "start_time": "2022-01-14T08:39:01.076978Z"
    },
    "id": "Um13XLBU9tOK"
   },
   "outputs": [],
   "source": [
    "import numpy as np\n",
    "import pandas as pd\n",
    "import matplotlib.pyplot as plt\n",
    "import seaborn as sns\n",
    "from datetime import datetime, timedelta\n",
    "\n",
    "# Scalers and splitting\n",
    "from sklearn.model_selection import train_test_split\n",
    "from sklearn.preprocessing import StandardScaler\n",
    "\n",
    "\n",
    "# Models\n",
    "from sklearn.ensemble import RandomForestRegressor\n",
    "from xgboost import XGBRegressor\n",
    "from statsmodels.tsa.arima_model import ARIMA\n",
    "\n",
    "\n",
    "# Search CV and Metrics\n",
    "from sklearn.model_selection import GridSearchCV\n",
    "from sklearn.model_selection import RandomizedSearchCV\n",
    "from sklearn.metrics import mean_absolute_error\n",
    "from sklearn.metrics import mean_squared_error\n",
    "\n",
    "\n",
    "# Modeling Utils\n",
    "from statsmodels.graphics.tsaplots import plot_acf\n",
    "from statsmodels.graphics.tsaplots import plot_pacf\n",
    "from pmdarima.arima.utils import ndiffs\n",
    "\n",
    "\n",
    "# Ignoring warnings\n",
    "import warnings\n",
    "warnings.filterwarnings('ignore')\n",
    "\n",
    "sns.set_style(style='darkgrid')"
   ]
  },
  {
   "cell_type": "code",
   "execution_count": 2,
   "id": "pjyz2Voq9tOS",
   "metadata": {
    "ExecuteTime": {
     "end_time": "2022-01-14T08:39:11.733045Z",
     "start_time": "2022-01-14T08:39:04.544258Z"
    },
    "id": "pjyz2Voq9tOS"
   },
   "outputs": [
    {
     "data": {
      "text/html": [
       "<div>\n",
       "<style scoped>\n",
       "    .dataframe tbody tr th:only-of-type {\n",
       "        vertical-align: middle;\n",
       "    }\n",
       "\n",
       "    .dataframe tbody tr th {\n",
       "        vertical-align: top;\n",
       "    }\n",
       "\n",
       "    .dataframe thead th {\n",
       "        text-align: right;\n",
       "    }\n",
       "</style>\n",
       "<table border=\"1\" class=\"dataframe\">\n",
       "  <thead>\n",
       "    <tr style=\"text-align: right;\">\n",
       "      <th></th>\n",
       "      <th>Unnamed: 0</th>\n",
       "      <th>year</th>\n",
       "      <th>month</th>\n",
       "      <th>day</th>\n",
       "      <th>hour</th>\n",
       "      <th>minute</th>\n",
       "      <th>ghi_zenith</th>\n",
       "      <th>SERI_QC_ghi_zenith</th>\n",
       "      <th>ghi_derived</th>\n",
       "      <th>SERI_QC_ghi_derived</th>\n",
       "      <th>...</th>\n",
       "      <th>SERI_QC_dhi</th>\n",
       "      <th>air_temperature</th>\n",
       "      <th>SERI_QC_air_temperature</th>\n",
       "      <th>humidity</th>\n",
       "      <th>SERI_QC_humidity</th>\n",
       "      <th>location</th>\n",
       "      <th>latitude</th>\n",
       "      <th>longitude</th>\n",
       "      <th>elevation</th>\n",
       "      <th>Unnamed: 0.1</th>\n",
       "    </tr>\n",
       "  </thead>\n",
       "  <tbody>\n",
       "    <tr>\n",
       "      <th>0</th>\n",
       "      <td>0</td>\n",
       "      <td>2000</td>\n",
       "      <td>1</td>\n",
       "      <td>1</td>\n",
       "      <td>0</td>\n",
       "      <td>5</td>\n",
       "      <td>-4.87</td>\n",
       "      <td>1</td>\n",
       "      <td>0.0</td>\n",
       "      <td>6</td>\n",
       "      <td>...</td>\n",
       "      <td>1</td>\n",
       "      <td>10.85</td>\n",
       "      <td>1</td>\n",
       "      <td>44.71</td>\n",
       "      <td>1</td>\n",
       "      <td>Abha</td>\n",
       "      <td>18.23</td>\n",
       "      <td>42.66</td>\n",
       "      <td>2039</td>\n",
       "      <td>NaN</td>\n",
       "    </tr>\n",
       "    <tr>\n",
       "      <th>1</th>\n",
       "      <td>1</td>\n",
       "      <td>2000</td>\n",
       "      <td>1</td>\n",
       "      <td>1</td>\n",
       "      <td>0</td>\n",
       "      <td>10</td>\n",
       "      <td>-4.21</td>\n",
       "      <td>1</td>\n",
       "      <td>0.0</td>\n",
       "      <td>6</td>\n",
       "      <td>...</td>\n",
       "      <td>1</td>\n",
       "      <td>10.85</td>\n",
       "      <td>1</td>\n",
       "      <td>44.37</td>\n",
       "      <td>1</td>\n",
       "      <td>Abha</td>\n",
       "      <td>18.23</td>\n",
       "      <td>42.66</td>\n",
       "      <td>2039</td>\n",
       "      <td>NaN</td>\n",
       "    </tr>\n",
       "    <tr>\n",
       "      <th>2</th>\n",
       "      <td>2</td>\n",
       "      <td>2000</td>\n",
       "      <td>1</td>\n",
       "      <td>1</td>\n",
       "      <td>0</td>\n",
       "      <td>15</td>\n",
       "      <td>-3.89</td>\n",
       "      <td>1</td>\n",
       "      <td>0.0</td>\n",
       "      <td>6</td>\n",
       "      <td>...</td>\n",
       "      <td>1</td>\n",
       "      <td>10.85</td>\n",
       "      <td>1</td>\n",
       "      <td>44.26</td>\n",
       "      <td>1</td>\n",
       "      <td>Abha</td>\n",
       "      <td>18.23</td>\n",
       "      <td>42.66</td>\n",
       "      <td>2039</td>\n",
       "      <td>NaN</td>\n",
       "    </tr>\n",
       "    <tr>\n",
       "      <th>3</th>\n",
       "      <td>3</td>\n",
       "      <td>2000</td>\n",
       "      <td>1</td>\n",
       "      <td>1</td>\n",
       "      <td>0</td>\n",
       "      <td>20</td>\n",
       "      <td>-4.08</td>\n",
       "      <td>1</td>\n",
       "      <td>0.0</td>\n",
       "      <td>6</td>\n",
       "      <td>...</td>\n",
       "      <td>1</td>\n",
       "      <td>10.79</td>\n",
       "      <td>1</td>\n",
       "      <td>44.49</td>\n",
       "      <td>1</td>\n",
       "      <td>Abha</td>\n",
       "      <td>18.23</td>\n",
       "      <td>42.66</td>\n",
       "      <td>2039</td>\n",
       "      <td>NaN</td>\n",
       "    </tr>\n",
       "    <tr>\n",
       "      <th>4</th>\n",
       "      <td>4</td>\n",
       "      <td>2000</td>\n",
       "      <td>1</td>\n",
       "      <td>1</td>\n",
       "      <td>0</td>\n",
       "      <td>25</td>\n",
       "      <td>-4.60</td>\n",
       "      <td>1</td>\n",
       "      <td>0.0</td>\n",
       "      <td>6</td>\n",
       "      <td>...</td>\n",
       "      <td>1</td>\n",
       "      <td>10.70</td>\n",
       "      <td>1</td>\n",
       "      <td>45.06</td>\n",
       "      <td>1</td>\n",
       "      <td>Abha</td>\n",
       "      <td>18.23</td>\n",
       "      <td>42.66</td>\n",
       "      <td>2039</td>\n",
       "      <td>NaN</td>\n",
       "    </tr>\n",
       "  </tbody>\n",
       "</table>\n",
       "<p>5 rows × 23 columns</p>\n",
       "</div>"
      ],
      "text/plain": [
       "   Unnamed: 0  year  month  day  hour  minute  ghi_zenith  SERI_QC_ghi_zenith  \\\n",
       "0           0  2000      1    1     0       5       -4.87                   1   \n",
       "1           1  2000      1    1     0      10       -4.21                   1   \n",
       "2           2  2000      1    1     0      15       -3.89                   1   \n",
       "3           3  2000      1    1     0      20       -4.08                   1   \n",
       "4           4  2000      1    1     0      25       -4.60                   1   \n",
       "\n",
       "   ghi_derived  SERI_QC_ghi_derived  ...  SERI_QC_dhi  air_temperature  \\\n",
       "0          0.0                    6  ...            1            10.85   \n",
       "1          0.0                    6  ...            1            10.85   \n",
       "2          0.0                    6  ...            1            10.85   \n",
       "3          0.0                    6  ...            1            10.79   \n",
       "4          0.0                    6  ...            1            10.70   \n",
       "\n",
       "   SERI_QC_air_temperature  humidity  SERI_QC_humidity  location  latitude  \\\n",
       "0                        1     44.71                 1      Abha     18.23   \n",
       "1                        1     44.37                 1      Abha     18.23   \n",
       "2                        1     44.26                 1      Abha     18.23   \n",
       "3                        1     44.49                 1      Abha     18.23   \n",
       "4                        1     45.06                 1      Abha     18.23   \n",
       "\n",
       "   longitude elevation  Unnamed: 0.1  \n",
       "0      42.66      2039           NaN  \n",
       "1      42.66      2039           NaN  \n",
       "2      42.66      2039           NaN  \n",
       "3      42.66      2039           NaN  \n",
       "4      42.66      2039           NaN  \n",
       "\n",
       "[5 rows x 23 columns]"
      ]
     },
     "execution_count": 2,
     "metadata": {},
     "output_type": "execute_result"
    }
   ],
   "source": [
    "# Importing the data and dropping \n",
    "df = pd.read_csv('NASA Remote Sensing Validation Data Saudi Arabia.csv')\n",
    "df.head()"
   ]
  },
  {
   "cell_type": "code",
   "execution_count": 3,
   "id": "523afac6",
   "metadata": {
    "ExecuteTime": {
     "end_time": "2022-01-14T08:39:11.764026Z",
     "start_time": "2022-01-14T08:39:11.735045Z"
    }
   },
   "outputs": [
    {
     "name": "stdout",
     "output_type": "stream",
     "text": [
      "<class 'pandas.core.frame.DataFrame'>\n",
      "RangeIndex: 3106166 entries, 0 to 3106165\n",
      "Data columns (total 23 columns):\n",
      " #   Column                   Dtype  \n",
      "---  ------                   -----  \n",
      " 0   Unnamed: 0               int64  \n",
      " 1   year                     int64  \n",
      " 2   month                    int64  \n",
      " 3   day                      int64  \n",
      " 4   hour                     int64  \n",
      " 5   minute                   int64  \n",
      " 6   ghi_zenith               float64\n",
      " 7   SERI_QC_ghi_zenith       int64  \n",
      " 8   ghi_derived              float64\n",
      " 9   SERI_QC_ghi_derived      int64  \n",
      " 10  dni                      float64\n",
      " 11  SERI_QC_dni              int64  \n",
      " 12  dhi                      float64\n",
      " 13  SERI_QC_dhi              int64  \n",
      " 14  air_temperature          float64\n",
      " 15  SERI_QC_air_temperature  int64  \n",
      " 16  humidity                 float64\n",
      " 17  SERI_QC_humidity         int64  \n",
      " 18  location                 object \n",
      " 19  latitude                 float64\n",
      " 20  longitude                float64\n",
      " 21  elevation                int64  \n",
      " 22  Unnamed: 0.1             float64\n",
      "dtypes: float64(9), int64(13), object(1)\n",
      "memory usage: 545.1+ MB\n"
     ]
    }
   ],
   "source": [
    "df.info()"
   ]
  },
  {
   "cell_type": "code",
   "execution_count": 4,
   "id": "0b998062",
   "metadata": {
    "ExecuteTime": {
     "end_time": "2022-01-14T08:39:14.040225Z",
     "start_time": "2022-01-14T08:39:11.766026Z"
    }
   },
   "outputs": [
    {
     "data": {
      "text/html": [
       "<div>\n",
       "<style scoped>\n",
       "    .dataframe tbody tr th:only-of-type {\n",
       "        vertical-align: middle;\n",
       "    }\n",
       "\n",
       "    .dataframe tbody tr th {\n",
       "        vertical-align: top;\n",
       "    }\n",
       "\n",
       "    .dataframe thead th {\n",
       "        text-align: right;\n",
       "    }\n",
       "</style>\n",
       "<table border=\"1\" class=\"dataframe\">\n",
       "  <thead>\n",
       "    <tr style=\"text-align: right;\">\n",
       "      <th></th>\n",
       "      <th>Unnamed: 0</th>\n",
       "      <th>year</th>\n",
       "      <th>month</th>\n",
       "      <th>day</th>\n",
       "      <th>hour</th>\n",
       "      <th>minute</th>\n",
       "      <th>ghi_zenith</th>\n",
       "      <th>SERI_QC_ghi_zenith</th>\n",
       "      <th>ghi_derived</th>\n",
       "      <th>SERI_QC_ghi_derived</th>\n",
       "      <th>...</th>\n",
       "      <th>dhi</th>\n",
       "      <th>SERI_QC_dhi</th>\n",
       "      <th>air_temperature</th>\n",
       "      <th>SERI_QC_air_temperature</th>\n",
       "      <th>humidity</th>\n",
       "      <th>SERI_QC_humidity</th>\n",
       "      <th>latitude</th>\n",
       "      <th>longitude</th>\n",
       "      <th>elevation</th>\n",
       "      <th>Unnamed: 0.1</th>\n",
       "    </tr>\n",
       "  </thead>\n",
       "  <tbody>\n",
       "    <tr>\n",
       "      <th>count</th>\n",
       "      <td>3.106166e+06</td>\n",
       "      <td>3.106166e+06</td>\n",
       "      <td>3.106166e+06</td>\n",
       "      <td>3.106166e+06</td>\n",
       "      <td>3.106166e+06</td>\n",
       "      <td>3.106166e+06</td>\n",
       "      <td>3.106166e+06</td>\n",
       "      <td>3.106166e+06</td>\n",
       "      <td>3.106166e+06</td>\n",
       "      <td>3.106166e+06</td>\n",
       "      <td>...</td>\n",
       "      <td>3.106166e+06</td>\n",
       "      <td>3.106166e+06</td>\n",
       "      <td>3.106166e+06</td>\n",
       "      <td>3.106166e+06</td>\n",
       "      <td>3.106166e+06</td>\n",
       "      <td>3.106166e+06</td>\n",
       "      <td>3.106166e+06</td>\n",
       "      <td>3.106166e+06</td>\n",
       "      <td>3.106166e+06</td>\n",
       "      <td>1.019026e+06</td>\n",
       "    </tr>\n",
       "    <tr>\n",
       "      <th>mean</th>\n",
       "      <td>8.683638e+05</td>\n",
       "      <td>2.000989e+03</td>\n",
       "      <td>6.489207e+00</td>\n",
       "      <td>1.570362e+01</td>\n",
       "      <td>1.150134e+01</td>\n",
       "      <td>2.750010e+01</td>\n",
       "      <td>2.577134e+02</td>\n",
       "      <td>8.294177e+00</td>\n",
       "      <td>2.547804e+02</td>\n",
       "      <td>6.003653e+00</td>\n",
       "      <td>...</td>\n",
       "      <td>9.743821e+01</td>\n",
       "      <td>7.649434e+00</td>\n",
       "      <td>2.622577e+01</td>\n",
       "      <td>1.004526e+00</td>\n",
       "      <td>4.385168e+01</td>\n",
       "      <td>1.225128e+00</td>\n",
       "      <td>2.292111e+01</td>\n",
       "      <td>4.352379e+01</td>\n",
       "      <td>5.910452e+02</td>\n",
       "      <td>5.106558e+04</td>\n",
       "    </tr>\n",
       "    <tr>\n",
       "      <th>std</th>\n",
       "      <td>5.789496e+05</td>\n",
       "      <td>8.168824e-01</td>\n",
       "      <td>3.456816e+00</td>\n",
       "      <td>8.795389e+00</td>\n",
       "      <td>6.922401e+00</td>\n",
       "      <td>1.726026e+01</td>\n",
       "      <td>3.514046e+02</td>\n",
       "      <td>1.758366e+01</td>\n",
       "      <td>3.531988e+02</td>\n",
       "      <td>5.828302e-01</td>\n",
       "      <td>...</td>\n",
       "      <td>1.661813e+02</td>\n",
       "      <td>1.640084e+01</td>\n",
       "      <td>4.831412e+01</td>\n",
       "      <td>6.610581e-01</td>\n",
       "      <td>2.932076e+01</td>\n",
       "      <td>1.233987e+00</td>\n",
       "      <td>4.369634e+00</td>\n",
       "      <td>3.234648e+00</td>\n",
       "      <td>5.460207e+02</td>\n",
       "      <td>2.960535e+04</td>\n",
       "    </tr>\n",
       "    <tr>\n",
       "      <th>min</th>\n",
       "      <td>0.000000e+00</td>\n",
       "      <td>2.000000e+03</td>\n",
       "      <td>1.000000e+00</td>\n",
       "      <td>1.000000e+00</td>\n",
       "      <td>0.000000e+00</td>\n",
       "      <td>0.000000e+00</td>\n",
       "      <td>-6.999000e+03</td>\n",
       "      <td>1.000000e+00</td>\n",
       "      <td>-1.764100e+03</td>\n",
       "      <td>6.000000e+00</td>\n",
       "      <td>...</td>\n",
       "      <td>-6.999000e+03</td>\n",
       "      <td>1.000000e+00</td>\n",
       "      <td>-6.999000e+03</td>\n",
       "      <td>0.000000e+00</td>\n",
       "      <td>-2.429000e+01</td>\n",
       "      <td>0.000000e+00</td>\n",
       "      <td>1.690000e+01</td>\n",
       "      <td>3.915000e+01</td>\n",
       "      <td>4.000000e+00</td>\n",
       "      <td>0.000000e+00</td>\n",
       "    </tr>\n",
       "    <tr>\n",
       "      <th>25%</th>\n",
       "      <td>3.882702e+05</td>\n",
       "      <td>2.000000e+03</td>\n",
       "      <td>3.000000e+00</td>\n",
       "      <td>8.000000e+00</td>\n",
       "      <td>6.000000e+00</td>\n",
       "      <td>1.500000e+01</td>\n",
       "      <td>-3.930000e+00</td>\n",
       "      <td>1.000000e+00</td>\n",
       "      <td>0.000000e+00</td>\n",
       "      <td>6.000000e+00</td>\n",
       "      <td>...</td>\n",
       "      <td>-3.800000e+00</td>\n",
       "      <td>1.000000e+00</td>\n",
       "      <td>1.998000e+01</td>\n",
       "      <td>1.000000e+00</td>\n",
       "      <td>1.802000e+01</td>\n",
       "      <td>1.000000e+00</td>\n",
       "      <td>1.823000e+01</td>\n",
       "      <td>4.010000e+01</td>\n",
       "      <td>1.780000e+02</td>\n",
       "      <td>2.547500e+04</td>\n",
       "    </tr>\n",
       "    <tr>\n",
       "      <th>50%</th>\n",
       "      <td>7.765410e+05</td>\n",
       "      <td>2.001000e+03</td>\n",
       "      <td>6.000000e+00</td>\n",
       "      <td>1.600000e+01</td>\n",
       "      <td>1.200000e+01</td>\n",
       "      <td>3.000000e+01</td>\n",
       "      <td>2.160000e+00</td>\n",
       "      <td>1.000000e+00</td>\n",
       "      <td>1.780000e+00</td>\n",
       "      <td>6.000000e+00</td>\n",
       "      <td>...</td>\n",
       "      <td>2.160000e+00</td>\n",
       "      <td>1.000000e+00</td>\n",
       "      <td>2.717000e+01</td>\n",
       "      <td>1.000000e+00</td>\n",
       "      <td>3.560000e+01</td>\n",
       "      <td>1.000000e+00</td>\n",
       "      <td>2.455000e+01</td>\n",
       "      <td>4.266000e+01</td>\n",
       "      <td>6.260000e+02</td>\n",
       "      <td>5.095100e+04</td>\n",
       "    </tr>\n",
       "    <tr>\n",
       "      <th>75%</th>\n",
       "      <td>1.310598e+06</td>\n",
       "      <td>2.002000e+03</td>\n",
       "      <td>9.000000e+00</td>\n",
       "      <td>2.300000e+01</td>\n",
       "      <td>1.800000e+01</td>\n",
       "      <td>4.500000e+01</td>\n",
       "      <td>5.452800e+02</td>\n",
       "      <td>3.000000e+00</td>\n",
       "      <td>5.084400e+02</td>\n",
       "      <td>6.000000e+00</td>\n",
       "      <td>...</td>\n",
       "      <td>1.564000e+02</td>\n",
       "      <td>8.000000e+00</td>\n",
       "      <td>3.311000e+01</td>\n",
       "      <td>1.000000e+00</td>\n",
       "      <td>6.919000e+01</td>\n",
       "      <td>1.000000e+00</td>\n",
       "      <td>2.631000e+01</td>\n",
       "      <td>4.613000e+01</td>\n",
       "      <td>7.010000e+02</td>\n",
       "      <td>7.642600e+04</td>\n",
       "    </tr>\n",
       "    <tr>\n",
       "      <th>max</th>\n",
       "      <td>2.087139e+06</td>\n",
       "      <td>2.003000e+03</td>\n",
       "      <td>1.200000e+01</td>\n",
       "      <td>3.100000e+01</td>\n",
       "      <td>2.300000e+01</td>\n",
       "      <td>5.500000e+01</td>\n",
       "      <td>1.381880e+03</td>\n",
       "      <td>9.900000e+01</td>\n",
       "      <td>9.900000e+03</td>\n",
       "      <td>9.900000e+01</td>\n",
       "      <td>...</td>\n",
       "      <td>1.288000e+03</td>\n",
       "      <td>9.900000e+01</td>\n",
       "      <td>4.933000e+01</td>\n",
       "      <td>9.900000e+01</td>\n",
       "      <td>1.818000e+02</td>\n",
       "      <td>8.000000e+00</td>\n",
       "      <td>2.979000e+01</td>\n",
       "      <td>4.948000e+01</td>\n",
       "      <td>2.039000e+03</td>\n",
       "      <td>1.051190e+05</td>\n",
       "    </tr>\n",
       "  </tbody>\n",
       "</table>\n",
       "<p>8 rows × 22 columns</p>\n",
       "</div>"
      ],
      "text/plain": [
       "         Unnamed: 0          year         month           day          hour  \\\n",
       "count  3.106166e+06  3.106166e+06  3.106166e+06  3.106166e+06  3.106166e+06   \n",
       "mean   8.683638e+05  2.000989e+03  6.489207e+00  1.570362e+01  1.150134e+01   \n",
       "std    5.789496e+05  8.168824e-01  3.456816e+00  8.795389e+00  6.922401e+00   \n",
       "min    0.000000e+00  2.000000e+03  1.000000e+00  1.000000e+00  0.000000e+00   \n",
       "25%    3.882702e+05  2.000000e+03  3.000000e+00  8.000000e+00  6.000000e+00   \n",
       "50%    7.765410e+05  2.001000e+03  6.000000e+00  1.600000e+01  1.200000e+01   \n",
       "75%    1.310598e+06  2.002000e+03  9.000000e+00  2.300000e+01  1.800000e+01   \n",
       "max    2.087139e+06  2.003000e+03  1.200000e+01  3.100000e+01  2.300000e+01   \n",
       "\n",
       "             minute    ghi_zenith  SERI_QC_ghi_zenith   ghi_derived  \\\n",
       "count  3.106166e+06  3.106166e+06        3.106166e+06  3.106166e+06   \n",
       "mean   2.750010e+01  2.577134e+02        8.294177e+00  2.547804e+02   \n",
       "std    1.726026e+01  3.514046e+02        1.758366e+01  3.531988e+02   \n",
       "min    0.000000e+00 -6.999000e+03        1.000000e+00 -1.764100e+03   \n",
       "25%    1.500000e+01 -3.930000e+00        1.000000e+00  0.000000e+00   \n",
       "50%    3.000000e+01  2.160000e+00        1.000000e+00  1.780000e+00   \n",
       "75%    4.500000e+01  5.452800e+02        3.000000e+00  5.084400e+02   \n",
       "max    5.500000e+01  1.381880e+03        9.900000e+01  9.900000e+03   \n",
       "\n",
       "       SERI_QC_ghi_derived  ...           dhi   SERI_QC_dhi  air_temperature  \\\n",
       "count         3.106166e+06  ...  3.106166e+06  3.106166e+06     3.106166e+06   \n",
       "mean          6.003653e+00  ...  9.743821e+01  7.649434e+00     2.622577e+01   \n",
       "std           5.828302e-01  ...  1.661813e+02  1.640084e+01     4.831412e+01   \n",
       "min           6.000000e+00  ... -6.999000e+03  1.000000e+00    -6.999000e+03   \n",
       "25%           6.000000e+00  ... -3.800000e+00  1.000000e+00     1.998000e+01   \n",
       "50%           6.000000e+00  ...  2.160000e+00  1.000000e+00     2.717000e+01   \n",
       "75%           6.000000e+00  ...  1.564000e+02  8.000000e+00     3.311000e+01   \n",
       "max           9.900000e+01  ...  1.288000e+03  9.900000e+01     4.933000e+01   \n",
       "\n",
       "       SERI_QC_air_temperature      humidity  SERI_QC_humidity      latitude  \\\n",
       "count             3.106166e+06  3.106166e+06      3.106166e+06  3.106166e+06   \n",
       "mean              1.004526e+00  4.385168e+01      1.225128e+00  2.292111e+01   \n",
       "std               6.610581e-01  2.932076e+01      1.233987e+00  4.369634e+00   \n",
       "min               0.000000e+00 -2.429000e+01      0.000000e+00  1.690000e+01   \n",
       "25%               1.000000e+00  1.802000e+01      1.000000e+00  1.823000e+01   \n",
       "50%               1.000000e+00  3.560000e+01      1.000000e+00  2.455000e+01   \n",
       "75%               1.000000e+00  6.919000e+01      1.000000e+00  2.631000e+01   \n",
       "max               9.900000e+01  1.818000e+02      8.000000e+00  2.979000e+01   \n",
       "\n",
       "          longitude     elevation  Unnamed: 0.1  \n",
       "count  3.106166e+06  3.106166e+06  1.019026e+06  \n",
       "mean   4.352379e+01  5.910452e+02  5.106558e+04  \n",
       "std    3.234648e+00  5.460207e+02  2.960535e+04  \n",
       "min    3.915000e+01  4.000000e+00  0.000000e+00  \n",
       "25%    4.010000e+01  1.780000e+02  2.547500e+04  \n",
       "50%    4.266000e+01  6.260000e+02  5.095100e+04  \n",
       "75%    4.613000e+01  7.010000e+02  7.642600e+04  \n",
       "max    4.948000e+01  2.039000e+03  1.051190e+05  \n",
       "\n",
       "[8 rows x 22 columns]"
      ]
     },
     "execution_count": 4,
     "metadata": {},
     "output_type": "execute_result"
    }
   ],
   "source": [
    "df.describe()"
   ]
  },
  {
   "cell_type": "markdown",
   "id": "f3726f89",
   "metadata": {},
   "source": [
    "A quick look at the data give us a general idea of what to do and expect.\\\n",
    "We have year, month, day, hour, and minute. These can be combined to form us a datetime index.\\\n",
    "Which will be very beneficial to us, since the data are registered by sensors every 5 minutes.\\\n",
    "<br>\n",
    "We also notice that, there's records in the GHI, DNI, and DHI that are negative.\\\n",
    "After some research on why do we have negative values here. We found that it was the way\\\n",
    "the sensor registers it when there's no solar radiation. So it's safe to assume that it is the evening time.\\\n",
    "<br>\n",
    "As for the SERI QC columns, these are Quality assessment measures, to measure the accuracy\\\n",
    "and the validity of the registered value.\\\n",
    "These are the value measures:\n",
    "\n",
    "| Flag | Description |\n",
    "|---|---|\n",
    "| 00 | Untested (raw data) |\n",
    "| 01 | Passed one-component test; data fall within min-max limits of Kt, Kn, or Kd |\n",
    "| 02 | Passed two-component test; data fall within 0.03 of the Gompertz boundaries |\n",
    "| 03 | Passed three-component test; data come within ±0.03 of satisfying Kt=Kn+Kd |\n",
    "| 04 | Passed visual inspection; not usedby SERI_QC |\n",
    "| 05 | Failed visual inspection; not used by SERI_QC |\n",
    "| 06 | Value estimated; passes all pertinent SERI_QC test |\n",
    "| 07 | Failed one-component test; lower than allowed minimum |\n",
    "| 08 | Failed one-component test; higher than allowed maximum |\n",
    "| 09 | Passed three-component test but failed two-component test by >0.05 |\n",
    "| 10–93 | Failed two- or three-component tests in one of four ways. |\n",
    "| 94-97 | Data fall into a physically impossible region where Kn > Kt by K-space distances of 0.05 to 0.10 (94), 0.10 to 0.15 (95), 0.15 to 0.20 (96) amd ± 0.20 (97). |\n",
    "| 98 | Not used |\n",
    "| 99 | Missing data |\n",
    "\n",
    "<br>\n",
    "We identified the value that represents missing values which is the flag 99. That will come in handy\n",
    "<br>\n",
    "when filling those values with what is appropriate."
   ]
  },
  {
   "cell_type": "markdown",
   "id": "917729bf",
   "metadata": {},
   "source": [
    "# Cleaning / Preprocessing"
   ]
  },
  {
   "cell_type": "markdown",
   "id": "1ace0227",
   "metadata": {},
   "source": [
    "As we said eariler, we have what we need to make a datetime column.\\\n",
    "We will also make it the index aswell, since time is a big factor for our kind of data here."
   ]
  },
  {
   "cell_type": "code",
   "execution_count": 5,
   "id": "4qv8LA3B9tOZ",
   "metadata": {
    "ExecuteTime": {
     "end_time": "2022-01-14T08:39:17.009722Z",
     "start_time": "2022-01-14T08:39:14.042225Z"
    },
    "id": "4qv8LA3B9tOZ"
   },
   "outputs": [],
   "source": [
    "# Date with time\n",
    "df['date'] = pd.to_datetime(df.loc[:,['year', 'month', 'day', 'hour', 'minute']])\n",
    "\n",
    "# Setting the date as index\n",
    "df = df.sort_values(by=['date', 'location']).reset_index(drop=True)\n",
    "df.set_index('date', inplace=True)\n",
    "\n",
    "# Dropping the unnecesseray columns\n",
    "df.drop(['year', 'month', 'day', 'hour', 'minute', 'Unnamed: 0','Unnamed: 0.1'], axis = 1, inplace=True)"
   ]
  },
  {
   "cell_type": "code",
   "execution_count": 6,
   "id": "FWMdP3im9tOb",
   "metadata": {
    "ExecuteTime": {
     "end_time": "2022-01-14T08:39:17.056695Z",
     "start_time": "2022-01-14T08:39:17.011721Z"
    },
    "id": "FWMdP3im9tOb",
    "outputId": "a12b2568-e160-4035-e92e-fc88c41da0b8"
   },
   "outputs": [
    {
     "data": {
      "text/html": [
       "<div>\n",
       "<style scoped>\n",
       "    .dataframe tbody tr th:only-of-type {\n",
       "        vertical-align: middle;\n",
       "    }\n",
       "\n",
       "    .dataframe tbody tr th {\n",
       "        vertical-align: top;\n",
       "    }\n",
       "\n",
       "    .dataframe thead th {\n",
       "        text-align: right;\n",
       "    }\n",
       "</style>\n",
       "<table border=\"1\" class=\"dataframe\">\n",
       "  <thead>\n",
       "    <tr style=\"text-align: right;\">\n",
       "      <th></th>\n",
       "      <th>ghi_zenith</th>\n",
       "      <th>SERI_QC_ghi_zenith</th>\n",
       "      <th>ghi_derived</th>\n",
       "      <th>SERI_QC_ghi_derived</th>\n",
       "      <th>dni</th>\n",
       "      <th>SERI_QC_dni</th>\n",
       "      <th>dhi</th>\n",
       "      <th>SERI_QC_dhi</th>\n",
       "      <th>air_temperature</th>\n",
       "      <th>SERI_QC_air_temperature</th>\n",
       "      <th>humidity</th>\n",
       "      <th>SERI_QC_humidity</th>\n",
       "      <th>location</th>\n",
       "      <th>latitude</th>\n",
       "      <th>longitude</th>\n",
       "      <th>elevation</th>\n",
       "    </tr>\n",
       "    <tr>\n",
       "      <th>date</th>\n",
       "      <th></th>\n",
       "      <th></th>\n",
       "      <th></th>\n",
       "      <th></th>\n",
       "      <th></th>\n",
       "      <th></th>\n",
       "      <th></th>\n",
       "      <th></th>\n",
       "      <th></th>\n",
       "      <th></th>\n",
       "      <th></th>\n",
       "      <th></th>\n",
       "      <th></th>\n",
       "      <th></th>\n",
       "      <th></th>\n",
       "      <th></th>\n",
       "    </tr>\n",
       "  </thead>\n",
       "  <tbody>\n",
       "    <tr>\n",
       "      <th>2000-01-01 00:05:00</th>\n",
       "      <td>-4.87</td>\n",
       "      <td>1</td>\n",
       "      <td>0.0</td>\n",
       "      <td>6</td>\n",
       "      <td>0.61</td>\n",
       "      <td>1</td>\n",
       "      <td>-4.63</td>\n",
       "      <td>1</td>\n",
       "      <td>10.85</td>\n",
       "      <td>1</td>\n",
       "      <td>44.71</td>\n",
       "      <td>1</td>\n",
       "      <td>Abha</td>\n",
       "      <td>18.23</td>\n",
       "      <td>42.66</td>\n",
       "      <td>2039</td>\n",
       "    </tr>\n",
       "    <tr>\n",
       "      <th>2000-01-01 00:05:00</th>\n",
       "      <td>-4.38</td>\n",
       "      <td>1</td>\n",
       "      <td>0.0</td>\n",
       "      <td>6</td>\n",
       "      <td>-0.69</td>\n",
       "      <td>1</td>\n",
       "      <td>-3.65</td>\n",
       "      <td>1</td>\n",
       "      <td>14.03</td>\n",
       "      <td>1</td>\n",
       "      <td>49.72</td>\n",
       "      <td>1</td>\n",
       "      <td>Al-Ahsa</td>\n",
       "      <td>25.30</td>\n",
       "      <td>49.48</td>\n",
       "      <td>178</td>\n",
       "    </tr>\n",
       "    <tr>\n",
       "      <th>2000-01-01 00:05:00</th>\n",
       "      <td>-5.67</td>\n",
       "      <td>1</td>\n",
       "      <td>0.0</td>\n",
       "      <td>6</td>\n",
       "      <td>-1.27</td>\n",
       "      <td>1</td>\n",
       "      <td>-5.62</td>\n",
       "      <td>1</td>\n",
       "      <td>11.63</td>\n",
       "      <td>1</td>\n",
       "      <td>52.06</td>\n",
       "      <td>1</td>\n",
       "      <td>Al-Jouf</td>\n",
       "      <td>29.79</td>\n",
       "      <td>40.10</td>\n",
       "      <td>669</td>\n",
       "    </tr>\n",
       "    <tr>\n",
       "      <th>2000-01-01 00:05:00</th>\n",
       "      <td>-4.75</td>\n",
       "      <td>1</td>\n",
       "      <td>0.0</td>\n",
       "      <td>6</td>\n",
       "      <td>-0.01</td>\n",
       "      <td>1</td>\n",
       "      <td>-4.11</td>\n",
       "      <td>1</td>\n",
       "      <td>18.66</td>\n",
       "      <td>1</td>\n",
       "      <td>33.90</td>\n",
       "      <td>1</td>\n",
       "      <td>Al-Madinah</td>\n",
       "      <td>24.55</td>\n",
       "      <td>39.70</td>\n",
       "      <td>626</td>\n",
       "    </tr>\n",
       "    <tr>\n",
       "      <th>2000-01-01 00:05:00</th>\n",
       "      <td>-3.58</td>\n",
       "      <td>1</td>\n",
       "      <td>0.0</td>\n",
       "      <td>6</td>\n",
       "      <td>-0.07</td>\n",
       "      <td>1</td>\n",
       "      <td>-3.33</td>\n",
       "      <td>1</td>\n",
       "      <td>9.91</td>\n",
       "      <td>1</td>\n",
       "      <td>66.56</td>\n",
       "      <td>1</td>\n",
       "      <td>Al-Qaisumah</td>\n",
       "      <td>28.32</td>\n",
       "      <td>46.13</td>\n",
       "      <td>358</td>\n",
       "    </tr>\n",
       "  </tbody>\n",
       "</table>\n",
       "</div>"
      ],
      "text/plain": [
       "                     ghi_zenith  SERI_QC_ghi_zenith  ghi_derived  \\\n",
       "date                                                               \n",
       "2000-01-01 00:05:00       -4.87                   1          0.0   \n",
       "2000-01-01 00:05:00       -4.38                   1          0.0   \n",
       "2000-01-01 00:05:00       -5.67                   1          0.0   \n",
       "2000-01-01 00:05:00       -4.75                   1          0.0   \n",
       "2000-01-01 00:05:00       -3.58                   1          0.0   \n",
       "\n",
       "                     SERI_QC_ghi_derived   dni  SERI_QC_dni   dhi  \\\n",
       "date                                                                \n",
       "2000-01-01 00:05:00                    6  0.61            1 -4.63   \n",
       "2000-01-01 00:05:00                    6 -0.69            1 -3.65   \n",
       "2000-01-01 00:05:00                    6 -1.27            1 -5.62   \n",
       "2000-01-01 00:05:00                    6 -0.01            1 -4.11   \n",
       "2000-01-01 00:05:00                    6 -0.07            1 -3.33   \n",
       "\n",
       "                     SERI_QC_dhi  air_temperature  SERI_QC_air_temperature  \\\n",
       "date                                                                         \n",
       "2000-01-01 00:05:00            1            10.85                        1   \n",
       "2000-01-01 00:05:00            1            14.03                        1   \n",
       "2000-01-01 00:05:00            1            11.63                        1   \n",
       "2000-01-01 00:05:00            1            18.66                        1   \n",
       "2000-01-01 00:05:00            1             9.91                        1   \n",
       "\n",
       "                     humidity  SERI_QC_humidity     location  latitude  \\\n",
       "date                                                                     \n",
       "2000-01-01 00:05:00     44.71                 1         Abha     18.23   \n",
       "2000-01-01 00:05:00     49.72                 1      Al-Ahsa     25.30   \n",
       "2000-01-01 00:05:00     52.06                 1      Al-Jouf     29.79   \n",
       "2000-01-01 00:05:00     33.90                 1   Al-Madinah     24.55   \n",
       "2000-01-01 00:05:00     66.56                 1  Al-Qaisumah     28.32   \n",
       "\n",
       "                     longitude  elevation  \n",
       "date                                       \n",
       "2000-01-01 00:05:00      42.66       2039  \n",
       "2000-01-01 00:05:00      49.48        178  \n",
       "2000-01-01 00:05:00      40.10        669  \n",
       "2000-01-01 00:05:00      39.70        626  \n",
       "2000-01-01 00:05:00      46.13        358  "
      ]
     },
     "execution_count": 6,
     "metadata": {},
     "output_type": "execute_result"
    }
   ],
   "source": [
    "df.head()"
   ]
  },
  {
   "cell_type": "markdown",
   "id": "d715dc8c",
   "metadata": {},
   "source": [
    " Let's add the region to the location as well. Since some of the data (temperature and humididy especially)\\\n",
    " will be very different from one location to the other."
   ]
  },
  {
   "cell_type": "code",
   "execution_count": 7,
   "id": "tWVRUxJc9tOh",
   "metadata": {
    "ExecuteTime": {
     "end_time": "2022-01-14T08:39:18.515386Z",
     "start_time": "2022-01-14T08:39:17.060692Z"
    },
    "id": "tWVRUxJc9tOh"
   },
   "outputs": [],
   "source": [
    "# Imputing a region column and filling them with the appropriate values.\n",
    "df.loc[df['location'].isin(['Abha', 'Sharurah', 'Gizan']), 'Region'] = 'Southern Province'\n",
    "df.loc[df['location'].isin(['Jeddah', 'Al-Madinah']), 'Region'] = 'Western Province'\n",
    "df.loc[df['location'].isin(['Wadi_Aldwasser', 'Qassim']), 'Region'] = 'Middle Province'\n",
    "df.loc[df['location'].isin(['Al-Jouf']), 'Region'] = 'Northern Province'\n",
    "df.loc[df['location'].isin(['Al-Ahsa', 'Al-Qaisumah']), 'Region'] = 'Eastern Province'"
   ]
  },
  {
   "cell_type": "code",
   "execution_count": 8,
   "id": "KTcWHL8T9tOi",
   "metadata": {
    "ExecuteTime": {
     "end_time": "2022-01-14T08:39:18.560352Z",
     "start_time": "2022-01-14T08:39:18.519377Z"
    },
    "id": "KTcWHL8T9tOi",
    "outputId": "53fce3ef-e6d6-4518-ac8b-5a5cbce8b728"
   },
   "outputs": [
    {
     "data": {
      "text/html": [
       "<div>\n",
       "<style scoped>\n",
       "    .dataframe tbody tr th:only-of-type {\n",
       "        vertical-align: middle;\n",
       "    }\n",
       "\n",
       "    .dataframe tbody tr th {\n",
       "        vertical-align: top;\n",
       "    }\n",
       "\n",
       "    .dataframe thead th {\n",
       "        text-align: right;\n",
       "    }\n",
       "</style>\n",
       "<table border=\"1\" class=\"dataframe\">\n",
       "  <thead>\n",
       "    <tr style=\"text-align: right;\">\n",
       "      <th></th>\n",
       "      <th>ghi_zenith</th>\n",
       "      <th>SERI_QC_ghi_zenith</th>\n",
       "      <th>ghi_derived</th>\n",
       "      <th>SERI_QC_ghi_derived</th>\n",
       "      <th>dni</th>\n",
       "      <th>SERI_QC_dni</th>\n",
       "      <th>dhi</th>\n",
       "      <th>SERI_QC_dhi</th>\n",
       "      <th>air_temperature</th>\n",
       "      <th>SERI_QC_air_temperature</th>\n",
       "      <th>humidity</th>\n",
       "      <th>SERI_QC_humidity</th>\n",
       "      <th>location</th>\n",
       "      <th>latitude</th>\n",
       "      <th>longitude</th>\n",
       "      <th>elevation</th>\n",
       "      <th>Region</th>\n",
       "    </tr>\n",
       "    <tr>\n",
       "      <th>date</th>\n",
       "      <th></th>\n",
       "      <th></th>\n",
       "      <th></th>\n",
       "      <th></th>\n",
       "      <th></th>\n",
       "      <th></th>\n",
       "      <th></th>\n",
       "      <th></th>\n",
       "      <th></th>\n",
       "      <th></th>\n",
       "      <th></th>\n",
       "      <th></th>\n",
       "      <th></th>\n",
       "      <th></th>\n",
       "      <th></th>\n",
       "      <th></th>\n",
       "      <th></th>\n",
       "    </tr>\n",
       "  </thead>\n",
       "  <tbody>\n",
       "    <tr>\n",
       "      <th>2000-01-01 00:05:00</th>\n",
       "      <td>-4.87</td>\n",
       "      <td>1</td>\n",
       "      <td>0.0</td>\n",
       "      <td>6</td>\n",
       "      <td>0.61</td>\n",
       "      <td>1</td>\n",
       "      <td>-4.63</td>\n",
       "      <td>1</td>\n",
       "      <td>10.85</td>\n",
       "      <td>1</td>\n",
       "      <td>44.71</td>\n",
       "      <td>1</td>\n",
       "      <td>Abha</td>\n",
       "      <td>18.23</td>\n",
       "      <td>42.66</td>\n",
       "      <td>2039</td>\n",
       "      <td>Southern Province</td>\n",
       "    </tr>\n",
       "    <tr>\n",
       "      <th>2000-01-01 00:05:00</th>\n",
       "      <td>-4.38</td>\n",
       "      <td>1</td>\n",
       "      <td>0.0</td>\n",
       "      <td>6</td>\n",
       "      <td>-0.69</td>\n",
       "      <td>1</td>\n",
       "      <td>-3.65</td>\n",
       "      <td>1</td>\n",
       "      <td>14.03</td>\n",
       "      <td>1</td>\n",
       "      <td>49.72</td>\n",
       "      <td>1</td>\n",
       "      <td>Al-Ahsa</td>\n",
       "      <td>25.30</td>\n",
       "      <td>49.48</td>\n",
       "      <td>178</td>\n",
       "      <td>Eastern Province</td>\n",
       "    </tr>\n",
       "    <tr>\n",
       "      <th>2000-01-01 00:05:00</th>\n",
       "      <td>-5.67</td>\n",
       "      <td>1</td>\n",
       "      <td>0.0</td>\n",
       "      <td>6</td>\n",
       "      <td>-1.27</td>\n",
       "      <td>1</td>\n",
       "      <td>-5.62</td>\n",
       "      <td>1</td>\n",
       "      <td>11.63</td>\n",
       "      <td>1</td>\n",
       "      <td>52.06</td>\n",
       "      <td>1</td>\n",
       "      <td>Al-Jouf</td>\n",
       "      <td>29.79</td>\n",
       "      <td>40.10</td>\n",
       "      <td>669</td>\n",
       "      <td>Northern Province</td>\n",
       "    </tr>\n",
       "    <tr>\n",
       "      <th>2000-01-01 00:05:00</th>\n",
       "      <td>-4.75</td>\n",
       "      <td>1</td>\n",
       "      <td>0.0</td>\n",
       "      <td>6</td>\n",
       "      <td>-0.01</td>\n",
       "      <td>1</td>\n",
       "      <td>-4.11</td>\n",
       "      <td>1</td>\n",
       "      <td>18.66</td>\n",
       "      <td>1</td>\n",
       "      <td>33.90</td>\n",
       "      <td>1</td>\n",
       "      <td>Al-Madinah</td>\n",
       "      <td>24.55</td>\n",
       "      <td>39.70</td>\n",
       "      <td>626</td>\n",
       "      <td>Western Province</td>\n",
       "    </tr>\n",
       "    <tr>\n",
       "      <th>2000-01-01 00:05:00</th>\n",
       "      <td>-3.58</td>\n",
       "      <td>1</td>\n",
       "      <td>0.0</td>\n",
       "      <td>6</td>\n",
       "      <td>-0.07</td>\n",
       "      <td>1</td>\n",
       "      <td>-3.33</td>\n",
       "      <td>1</td>\n",
       "      <td>9.91</td>\n",
       "      <td>1</td>\n",
       "      <td>66.56</td>\n",
       "      <td>1</td>\n",
       "      <td>Al-Qaisumah</td>\n",
       "      <td>28.32</td>\n",
       "      <td>46.13</td>\n",
       "      <td>358</td>\n",
       "      <td>Eastern Province</td>\n",
       "    </tr>\n",
       "  </tbody>\n",
       "</table>\n",
       "</div>"
      ],
      "text/plain": [
       "                     ghi_zenith  SERI_QC_ghi_zenith  ghi_derived  \\\n",
       "date                                                               \n",
       "2000-01-01 00:05:00       -4.87                   1          0.0   \n",
       "2000-01-01 00:05:00       -4.38                   1          0.0   \n",
       "2000-01-01 00:05:00       -5.67                   1          0.0   \n",
       "2000-01-01 00:05:00       -4.75                   1          0.0   \n",
       "2000-01-01 00:05:00       -3.58                   1          0.0   \n",
       "\n",
       "                     SERI_QC_ghi_derived   dni  SERI_QC_dni   dhi  \\\n",
       "date                                                                \n",
       "2000-01-01 00:05:00                    6  0.61            1 -4.63   \n",
       "2000-01-01 00:05:00                    6 -0.69            1 -3.65   \n",
       "2000-01-01 00:05:00                    6 -1.27            1 -5.62   \n",
       "2000-01-01 00:05:00                    6 -0.01            1 -4.11   \n",
       "2000-01-01 00:05:00                    6 -0.07            1 -3.33   \n",
       "\n",
       "                     SERI_QC_dhi  air_temperature  SERI_QC_air_temperature  \\\n",
       "date                                                                         \n",
       "2000-01-01 00:05:00            1            10.85                        1   \n",
       "2000-01-01 00:05:00            1            14.03                        1   \n",
       "2000-01-01 00:05:00            1            11.63                        1   \n",
       "2000-01-01 00:05:00            1            18.66                        1   \n",
       "2000-01-01 00:05:00            1             9.91                        1   \n",
       "\n",
       "                     humidity  SERI_QC_humidity     location  latitude  \\\n",
       "date                                                                     \n",
       "2000-01-01 00:05:00     44.71                 1         Abha     18.23   \n",
       "2000-01-01 00:05:00     49.72                 1      Al-Ahsa     25.30   \n",
       "2000-01-01 00:05:00     52.06                 1      Al-Jouf     29.79   \n",
       "2000-01-01 00:05:00     33.90                 1   Al-Madinah     24.55   \n",
       "2000-01-01 00:05:00     66.56                 1  Al-Qaisumah     28.32   \n",
       "\n",
       "                     longitude  elevation             Region  \n",
       "date                                                          \n",
       "2000-01-01 00:05:00      42.66       2039  Southern Province  \n",
       "2000-01-01 00:05:00      49.48        178   Eastern Province  \n",
       "2000-01-01 00:05:00      40.10        669  Northern Province  \n",
       "2000-01-01 00:05:00      39.70        626   Western Province  \n",
       "2000-01-01 00:05:00      46.13        358   Eastern Province  "
      ]
     },
     "execution_count": 8,
     "metadata": {},
     "output_type": "execute_result"
    }
   ],
   "source": [
    "df.head()"
   ]
  },
  {
   "cell_type": "code",
   "execution_count": 9,
   "id": "rmeaZtDQ9tOi",
   "metadata": {
    "ExecuteTime": {
     "end_time": "2022-01-14T08:39:18.575343Z",
     "start_time": "2022-01-14T08:39:18.563352Z"
    },
    "id": "rmeaZtDQ9tOi",
    "outputId": "a8191281-b932-447f-db10-4e2f97006b7c"
   },
   "outputs": [
    {
     "data": {
      "text/plain": [
       "(3106166, 17)"
      ]
     },
     "execution_count": 9,
     "metadata": {},
     "output_type": "execute_result"
    }
   ],
   "source": [
    "df.shape"
   ]
  },
  {
   "cell_type": "markdown",
   "id": "8a15d3bf",
   "metadata": {},
   "source": [
    "## Dealing With Missing Data"
   ]
  },
  {
   "cell_type": "markdown",
   "id": "61f1188f",
   "metadata": {},
   "source": [
    "As we established from the SERI QC assessment, that 99 refers to missing values.\\\n",
    "We will change them to nan. We can do Forward filling, since we are working with registers from every 5 minutes."
   ]
  },
  {
   "cell_type": "code",
   "execution_count": 10,
   "id": "64e75dd0",
   "metadata": {
    "ExecuteTime": {
     "end_time": "2022-01-14T08:39:18.762228Z",
     "start_time": "2022-01-14T08:39:18.578342Z"
    }
   },
   "outputs": [],
   "source": [
    "# filtering missing data and filling them with NaN\n",
    "mask = df['SERI_QC_dni']==99\n",
    "df.loc[mask,'dni'] = np.nan\n",
    "\n",
    "mask = df['SERI_QC_dhi']==99\n",
    "df.loc[mask,'dni'] = np.nan\n",
    "\n",
    "mask = df['SERI_QC_ghi_derived']==99\n",
    "df.loc[mask,'dni'] = np.nan\n",
    "\n",
    "mask = df['SERI_QC_air_temperature']==99\n",
    "df.loc[mask,'dni'] = np.nan\n",
    "\n",
    "mask = df['SERI_QC_humidity']==99\n",
    "df.loc[mask,'dni'] = np.nan"
   ]
  },
  {
   "cell_type": "code",
   "execution_count": 11,
   "id": "rz5ACV1u9tOq",
   "metadata": {
    "ExecuteTime": {
     "end_time": "2022-01-14T08:39:20.348599Z",
     "start_time": "2022-01-14T08:39:18.764230Z"
    },
    "id": "rz5ACV1u9tOq",
    "outputId": "65afe980-d4c6-40e2-804a-c5934ae3a333",
    "scrolled": false
   },
   "outputs": [
    {
     "data": {
      "image/png": "[encoded data removed]",
      "text/plain": [
       "<Figure size 432x288 with 1 Axes>"
      ]
     },
     "metadata": {},
     "output_type": "display_data"
    }
   ],
   "source": [
    "plt.figure()\n",
    "data = df[['air_temperature', 'humidity', 'ghi_derived', 'dni','dhi']]\n",
    "sns.boxplot(data =  data);"
   ]
  },
  {
   "cell_type": "markdown",
   "id": "198a5be2",
   "metadata": {},
   "source": [
    "We can see there's outliers, and also data that doesn't make since.\\\n",
    "For example, temperature below 5000, also GHI and DHI above 5000.\\\n",
    "We will create a function, to treat these outliers by turning them to NaN for forward filling.\\\n",
    "Since time is a critical here and we can't afford to delete rows if we can treat them."
   ]
  },
  {
   "cell_type": "code",
   "execution_count": 12,
   "id": "XX-AyZ9M9tOr",
   "metadata": {
    "ExecuteTime": {
     "end_time": "2022-01-14T08:39:20.363584Z",
     "start_time": "2022-01-14T08:39:20.351594Z"
    },
    "id": "XX-AyZ9M9tOr"
   },
   "outputs": [],
   "source": [
    "def outlier(feature):\n",
    "    # Turning Oulier into NaN\n",
    "    for i in [feature]:\n",
    "        q75,q25 = np.percentile(df.loc[:,i],[75,25])\n",
    "        intr_qr = q75-q25\n",
    " \n",
    "        max = q75+(1.5*intr_qr)\n",
    "        min = q25-(1.5*intr_qr)\n",
    " \n",
    "        df.loc[df[i] < min,i] = np.nan\n",
    "        df.loc[df[i] > max,i] = np.nan"
   ]
  },
  {
   "cell_type": "code",
   "execution_count": 13,
   "id": "bfe78d82",
   "metadata": {
    "ExecuteTime": {
     "end_time": "2022-01-14T08:39:20.886263Z",
     "start_time": "2022-01-14T08:39:20.366582Z"
    }
   },
   "outputs": [],
   "source": [
    "# Applying the function to treat outliers\n",
    "outlier('air_temperature')\n",
    "outlier('humidity')\n",
    "outlier('dni')\n",
    "outlier('dhi')\n",
    "outlier('ghi_derived')"
   ]
  },
  {
   "cell_type": "code",
   "execution_count": 14,
   "id": "NYn-TtMa9tOw",
   "metadata": {
    "ExecuteTime": {
     "end_time": "2022-01-14T08:39:21.550319Z",
     "start_time": "2022-01-14T08:39:20.887262Z"
    },
    "id": "NYn-TtMa9tOw"
   },
   "outputs": [],
   "source": [
    "# Forward Filling for the NaNs, along with that is GHI and DNI and DHI as well.\n",
    "df = df.apply(lambda x: x.fillna(method='ffill'))"
   ]
  },
  {
   "cell_type": "code",
   "execution_count": 15,
   "id": "veW8jSz99tOo",
   "metadata": {
    "ExecuteTime": {
     "end_time": "2022-01-14T08:39:21.734864Z",
     "start_time": "2022-01-14T08:39:21.552317Z"
    },
    "id": "veW8jSz99tOo"
   },
   "outputs": [],
   "source": [
    "# Setting values below 0 to 0\n",
    "# Because as we explained earlier, below 0 is the way of the sensor when there's no GHI.. etc.\n",
    "x = df['ghi_derived'] < 1\n",
    "df.loc[x, 'ghi_derived'] = 0\n",
    "\n",
    "x = df['dni'] < 1\n",
    "df.loc[x, 'dni'] = 0\n",
    "\n",
    "x = df['dhi'] < 1\n",
    "df.loc[x, 'dhi'] = 0\n",
    "\n",
    "\n",
    "# Researching GHI yields that 1000 is the approx maximum for GHI and 800 for DNI\n",
    "mask = df['ghi_derived'] > 1000\n",
    "df.loc[mask, 'ghi_derived'] = 1000\n",
    "\n",
    "mask = df['dni'] > 1000\n",
    "df.loc[mask, 'dni'] = 1000"
   ]
  },
  {
   "cell_type": "code",
   "execution_count": 16,
   "id": "49a05e5b",
   "metadata": {
    "ExecuteTime": {
     "end_time": "2022-01-14T08:39:22.212569Z",
     "start_time": "2022-01-14T08:39:21.736862Z"
    }
   },
   "outputs": [
    {
     "data": {
      "image/png": "[encoded data removed]",
      "text/plain": [
       "<Figure size 432x288 with 1 Axes>"
      ]
     },
     "metadata": {},
     "output_type": "display_data"
    }
   ],
   "source": [
    "# That's more like it!\n",
    "data = df[['air_temperature', 'humidity']]\n",
    "sns.boxplot(data =  data);"
   ]
  },
  {
   "cell_type": "markdown",
   "id": "d760bf63",
   "metadata": {},
   "source": [
    "There's humidity level that are over 100, and that's impossible for relative humidity.\\\n",
    "So we will turn anything above 99% to NaN, then fill them with the mean.\\\n",
    "But, we have to take the location into consideration here, because it varies significantly.\\\n",
    "We have to group by location and take the mean."
   ]
  },
  {
   "cell_type": "code",
   "execution_count": 17,
   "id": "4aef62c9",
   "metadata": {
    "ExecuteTime": {
     "end_time": "2022-01-14T08:39:22.489405Z",
     "start_time": "2022-01-14T08:39:22.219567Z"
    }
   },
   "outputs": [
    {
     "data": {
      "text/plain": [
       "location\n",
       "Abha              61.776735\n",
       "Al-Ahsa           29.643331\n",
       "Al-Jouf           42.429339\n",
       "Al-Madinah        29.831912\n",
       "Al-Qaisumah       39.093781\n",
       "Gizan             80.186809\n",
       "Jeddah            69.739961\n",
       "Qassim            32.525724\n",
       "Sharurah          26.317930\n",
       "Wadi_Aldwasser    28.061680\n",
       "Name: humidity, dtype: float64"
      ]
     },
     "execution_count": 17,
     "metadata": {},
     "output_type": "execute_result"
    }
   ],
   "source": [
    "# Getting the average humidity per city\n",
    "humid = df.groupby('location')['humidity'].mean()\n",
    "humid"
   ]
  },
  {
   "cell_type": "code",
   "execution_count": 18,
   "id": "32f2130a",
   "metadata": {
    "ExecuteTime": {
     "end_time": "2022-01-14T08:39:24.843915Z",
     "start_time": "2022-01-14T08:39:22.496396Z"
    }
   },
   "outputs": [],
   "source": [
    "# Filling the humidity that above 99 with the average humidity per city\n",
    "\n",
    "mask = (df['location'] == 'Abha') & (df['humidity'] > 99)\n",
    "df.loc[mask, 'humidity'] = humid[0]\n",
    "#\n",
    "mask = (df['location'] == 'Al-Ahsa') & (df['humidity'] > 99)\n",
    "df.loc[mask, 'humidity'] = humid[1]\n",
    "#\n",
    "mask = (df['location'] == 'Al-Jouf') & (df['humidity'] > 99)\n",
    "df.loc[mask, 'humidity'] = humid[2]\n",
    "#\n",
    "mask = (df['location'] == 'Al-Madinah') & (df['humidity'] > 99)\n",
    "df.loc[mask, 'humidity'] = humid[3]\n",
    "#\n",
    "mask = (df['location'] == 'Al-Qaisumah') & (df['humidity'] > 99)\n",
    "df.loc[mask, 'humidity'] = humid[4]\n",
    "#\n",
    "mask = (df['location'] == 'Gizan') & (df['humidity'] > 99)\n",
    "df.loc[mask, 'humidity'] = humid[5]\n",
    "#\n",
    "mask = (df['location'] == 'Jeddah') & (df['humidity'] > 99)\n",
    "df.loc[mask, 'humidity'] = humid[6]\n",
    "#\n",
    "mask = (df['location'] == 'Qassim') & (df['humidity'] > 99)\n",
    "df.loc[mask, 'humidity'] = humid[7]\n",
    "#\n",
    "mask = (df['location'] == 'Sharurah') & (df['humidity'] > 99)\n",
    "df.loc[mask, 'humidity'] = humid[8]\n",
    "#\n",
    "mask = (df['location'] == 'Wadi_Aldwasser') & (df['humidity'] > 99)\n",
    "df.loc[mask, 'humidity'] = humid[9]\n",
    "\n",
    "\n",
    "\n",
    "# 1500 records of below 0 humidity are set to 0.\n",
    "mask = (df['humidity'] < 0)\n",
    "df.loc[mask, 'humidity'] = 0"
   ]
  },
  {
   "cell_type": "code",
   "execution_count": 19,
   "id": "c57e8688",
   "metadata": {
    "ExecuteTime": {
     "end_time": "2022-01-14T08:39:25.319620Z",
     "start_time": "2022-01-14T08:39:24.845911Z"
    }
   },
   "outputs": [
    {
     "data": {
      "image/png": "[encoded data removed]",
      "text/plain": [
       "<Figure size 432x288 with 1 Axes>"
      ]
     },
     "metadata": {},
     "output_type": "display_data"
    }
   ],
   "source": [
    "# Viola!\n",
    "data = df[['air_temperature', 'humidity']]\n",
    "sns.boxplot(data =  data);"
   ]
  },
  {
   "cell_type": "code",
   "execution_count": 20,
   "id": "7f7f1fe1",
   "metadata": {
    "ExecuteTime": {
     "end_time": "2022-01-14T08:39:25.952435Z",
     "start_time": "2022-01-14T08:39:25.321619Z"
    },
    "scrolled": true
   },
   "outputs": [
    {
     "data": {
      "image/png": "[encoded data removed]",
      "text/plain": [
       "<Figure size 432x288 with 1 Axes>"
      ]
     },
     "metadata": {},
     "output_type": "display_data"
    }
   ],
   "source": [
    "data = df[['ghi_derived', 'dni', 'dhi']]\n",
    "sns.boxplot(data =  data);"
   ]
  },
  {
   "cell_type": "markdown",
   "id": "a3db5ad9",
   "metadata": {},
   "source": [
    "We noticed the DHI might have some outliers, but they are still way below the max.\\\n",
    "Also, there is quite a number of records for it. We can't see the median because we have to take\\\n",
    "That half of the data is 0, since we have night records too. let's see how it looks without the 0."
   ]
  },
  {
   "cell_type": "code",
   "execution_count": 21,
   "id": "aa94f2f8",
   "metadata": {
    "ExecuteTime": {
     "end_time": "2022-01-14T08:39:26.121025Z",
     "start_time": "2022-01-14T08:39:25.958432Z"
    }
   },
   "outputs": [],
   "source": [
    "ghi_box = df[df['ghi_derived'] > 0]"
   ]
  },
  {
   "cell_type": "code",
   "execution_count": 22,
   "id": "04c2e3ee",
   "metadata": {
    "ExecuteTime": {
     "end_time": "2022-01-14T08:39:26.550761Z",
     "start_time": "2022-01-14T08:39:26.126022Z"
    }
   },
   "outputs": [
    {
     "data": {
      "image/png": "[encoded data removed]",
      "text/plain": [
       "<Figure size 432x288 with 1 Axes>"
      ]
     },
     "metadata": {},
     "output_type": "display_data"
    }
   ],
   "source": [
    "data = ghi_box[['ghi_derived', 'dni', 'dhi']]\n",
    "sns.boxplot(data =  data);"
   ]
  },
  {
   "cell_type": "code",
   "execution_count": 23,
   "id": "YOpyB1Ts9tOk",
   "metadata": {
    "ExecuteTime": {
     "end_time": "2022-01-14T08:39:26.871564Z",
     "start_time": "2022-01-14T08:39:26.554758Z"
    },
    "id": "YOpyB1Ts9tOk",
    "outputId": "ed5a4a1d-964b-406e-919b-20408b22b5fe"
   },
   "outputs": [
    {
     "data": {
      "text/html": [
       "<div>\n",
       "<style scoped>\n",
       "    .dataframe tbody tr th:only-of-type {\n",
       "        vertical-align: middle;\n",
       "    }\n",
       "\n",
       "    .dataframe tbody tr th {\n",
       "        vertical-align: top;\n",
       "    }\n",
       "\n",
       "    .dataframe thead th {\n",
       "        text-align: right;\n",
       "    }\n",
       "</style>\n",
       "<table border=\"1\" class=\"dataframe\">\n",
       "  <thead>\n",
       "    <tr style=\"text-align: right;\">\n",
       "      <th></th>\n",
       "      <th>ghi_derived</th>\n",
       "      <th>dni</th>\n",
       "      <th>dhi</th>\n",
       "    </tr>\n",
       "  </thead>\n",
       "  <tbody>\n",
       "    <tr>\n",
       "      <th>count</th>\n",
       "      <td>3.106166e+06</td>\n",
       "      <td>3.106166e+06</td>\n",
       "      <td>3.106166e+06</td>\n",
       "    </tr>\n",
       "    <tr>\n",
       "      <th>mean</th>\n",
       "      <td>2.483363e+02</td>\n",
       "      <td>2.282121e+02</td>\n",
       "      <td>8.058051e+01</td>\n",
       "    </tr>\n",
       "    <tr>\n",
       "      <th>std</th>\n",
       "      <td>3.323020e+02</td>\n",
       "      <td>3.174492e+02</td>\n",
       "      <td>1.052498e+02</td>\n",
       "    </tr>\n",
       "    <tr>\n",
       "      <th>min</th>\n",
       "      <td>0.000000e+00</td>\n",
       "      <td>0.000000e+00</td>\n",
       "      <td>0.000000e+00</td>\n",
       "    </tr>\n",
       "    <tr>\n",
       "      <th>25%</th>\n",
       "      <td>0.000000e+00</td>\n",
       "      <td>0.000000e+00</td>\n",
       "      <td>0.000000e+00</td>\n",
       "    </tr>\n",
       "    <tr>\n",
       "      <th>50%</th>\n",
       "      <td>1.780000e+00</td>\n",
       "      <td>0.000000e+00</td>\n",
       "      <td>2.170000e+00</td>\n",
       "    </tr>\n",
       "    <tr>\n",
       "      <th>75%</th>\n",
       "      <td>5.070600e+02</td>\n",
       "      <td>5.067000e+02</td>\n",
       "      <td>1.498000e+02</td>\n",
       "    </tr>\n",
       "    <tr>\n",
       "      <th>max</th>\n",
       "      <td>1.000000e+03</td>\n",
       "      <td>1.000000e+03</td>\n",
       "      <td>3.967000e+02</td>\n",
       "    </tr>\n",
       "  </tbody>\n",
       "</table>\n",
       "</div>"
      ],
      "text/plain": [
       "        ghi_derived           dni           dhi\n",
       "count  3.106166e+06  3.106166e+06  3.106166e+06\n",
       "mean   2.483363e+02  2.282121e+02  8.058051e+01\n",
       "std    3.323020e+02  3.174492e+02  1.052498e+02\n",
       "min    0.000000e+00  0.000000e+00  0.000000e+00\n",
       "25%    0.000000e+00  0.000000e+00  0.000000e+00\n",
       "50%    1.780000e+00  0.000000e+00  2.170000e+00\n",
       "75%    5.070600e+02  5.067000e+02  1.498000e+02\n",
       "max    1.000000e+03  1.000000e+03  3.967000e+02"
      ]
     },
     "execution_count": 23,
     "metadata": {},
     "output_type": "execute_result"
    }
   ],
   "source": [
    "df[['ghi_derived', 'dni','dhi']].describe()"
   ]
  },
  {
   "cell_type": "markdown",
   "id": "d7fea13a",
   "metadata": {},
   "source": [
    "Lastly, we are dropping the columns that will not serve us in the EDA part or ML."
   ]
  },
  {
   "cell_type": "code",
   "execution_count": 24,
   "id": "1R9NC4ZT9tOy",
   "metadata": {
    "ExecuteTime": {
     "end_time": "2022-01-14T08:39:27.041460Z",
     "start_time": "2022-01-14T08:39:26.873563Z"
    },
    "id": "1R9NC4ZT9tOy"
   },
   "outputs": [],
   "source": [
    "# Dropping Unnecessary columns\n",
    "df.drop(['ghi_zenith','SERI_QC_ghi_zenith','SERI_QC_ghi_derived','SERI_QC_dni','SERI_QC_dhi','SERI_QC_air_temperature','SERI_QC_humidity'],axis=1,inplace=True)"
   ]
  },
  {
   "cell_type": "code",
   "execution_count": 25,
   "id": "BsotPnoM9tOy",
   "metadata": {
    "ExecuteTime": {
     "end_time": "2022-01-14T08:39:27.057450Z",
     "start_time": "2022-01-14T08:39:27.043459Z"
    },
    "id": "BsotPnoM9tOy",
    "outputId": "d8e7a644-d52d-4b61-8500-9ffae367455d"
   },
   "outputs": [],
   "source": [
    "#df.reset_index(inplace=True)\n",
    "#df['time'] = df['date'].dt.date\n",
    "#df['x'] = df['date'].dt.time\n",
    "#df.rename(columns={'date':'datetime', 'time':'date', 'x':'time'}, inplace=True)\n",
    "#df.to_csv('GHI_dashboard_ready.csv', index=False)"
   ]
  },
  {
   "cell_type": "markdown",
   "id": "d995a654",
   "metadata": {},
   "source": [
    "# Exploratory Data Analysis"
   ]
  },
  {
   "cell_type": "markdown",
   "id": "84265b25",
   "metadata": {},
   "source": [
    "Our Target is the GHI, we will try to understand it better first before building any model."
   ]
  },
  {
   "cell_type": "code",
   "execution_count": 26,
   "id": "ff6df2d6",
   "metadata": {
    "ExecuteTime": {
     "end_time": "2022-01-14T08:39:27.182379Z",
     "start_time": "2022-01-14T08:39:27.060449Z"
    }
   },
   "outputs": [],
   "source": [
    "df_eda = df[df['ghi_derived'] > 0]"
   ]
  },
  {
   "cell_type": "code",
   "execution_count": 27,
   "id": "4c62cf7b",
   "metadata": {
    "ExecuteTime": {
     "end_time": "2022-01-14T08:39:27.196365Z",
     "start_time": "2022-01-14T08:39:27.185373Z"
    }
   },
   "outputs": [],
   "source": [
    "#energy = pd.read_csv('Energy consumption dataset.csv')"
   ]
  },
  {
   "cell_type": "code",
   "execution_count": 28,
   "id": "20318575",
   "metadata": {
    "ExecuteTime": {
     "end_time": "2022-01-14T08:39:27.211355Z",
     "start_time": "2022-01-14T08:39:27.198365Z"
    }
   },
   "outputs": [],
   "source": [
    "#energy_r = energy[energy['Region'] != 'Total']"
   ]
  },
  {
   "cell_type": "code",
   "execution_count": 29,
   "id": "ebe87f0d",
   "metadata": {
    "ExecuteTime": {
     "end_time": "2022-01-14T08:39:27.227346Z",
     "start_time": "2022-01-14T08:39:27.213355Z"
    }
   },
   "outputs": [],
   "source": [
    "#plt.figure(figsize=(8, 6), dpi=72)\n",
    "#sns.barplot(data=energy_r, x='Year', y='Total Energy Consumed', hue='Region');\n",
    "#plt.legend(bbox_to_anchor=(1.02, 1), loc='upper left', borderaxespad=0)\n",
    "#plt.savefig('Energy_consumption_region')"
   ]
  },
  {
   "cell_type": "code",
   "execution_count": 30,
   "id": "9435b7db",
   "metadata": {
    "ExecuteTime": {
     "end_time": "2022-01-14T08:39:27.491808Z",
     "start_time": "2022-01-14T08:39:27.229344Z"
    }
   },
   "outputs": [],
   "source": [
    "jouf = df[df['location']=='Al-Jouf']"
   ]
  },
  {
   "cell_type": "code",
   "execution_count": 31,
   "id": "7efd640e",
   "metadata": {
    "ExecuteTime": {
     "end_time": "2022-01-14T08:40:13.054692Z",
     "start_time": "2022-01-14T08:39:27.493808Z"
    }
   },
   "outputs": [
    {
     "data": {
      "image/png": "[encoded data removed]",
      "text/plain": [
       "<Figure size 576x432 with 2 Axes>"
      ]
     },
     "metadata": {},
     "output_type": "display_data"
    }
   ],
   "source": [
    "plt.figure(figsize=(8, 6), dpi=72)\n",
    "ax1 = sns.lineplot(data = df_eda, x = df_eda.index.month, y = 'ghi_derived', color='r')\n",
    "ax1.set(title='GHI (W/$m^2$) & Air Temperature Per Month', xlabel='Month', xticks =(range(1,13)))\n",
    "ax2 = ax1.twinx()\n",
    "ax2 = sns.lineplot(data = df_eda, x = df_eda.index.month, y = 'air_temperature', color='blue')\n",
    "ax2.set(ylabel='Air Temperature')\n",
    "ax1.set_ylabel('GHI (W/$m^2$)', color='r', fontsize=14)\n",
    "ax2.set_ylabel('Air Temperature', color='b', fontsize=14);\n",
    "#plt.savefig('ghi_temperature')"
   ]
  },
  {
   "cell_type": "markdown",
   "id": "14152ab3",
   "metadata": {},
   "source": [
    "The relationship between GHI and Air Temperature is somewhat correlated.\\\n",
    "But it's worth mentioning that we can get high GHI values with relatively low temperature."
   ]
  },
  {
   "cell_type": "code",
   "execution_count": 32,
   "id": "b0d37a4c",
   "metadata": {
    "ExecuteTime": {
     "end_time": "2022-01-14T08:40:58.008307Z",
     "start_time": "2022-01-14T08:40:13.059694Z"
    }
   },
   "outputs": [
    {
     "data": {
      "image/png": "[encoded data removed]",
      "text/plain": [
       "<Figure size 576x432 with 2 Axes>"
      ]
     },
     "metadata": {},
     "output_type": "display_data"
    }
   ],
   "source": [
    "plt.figure(figsize=(8, 6), dpi=72)\n",
    "ax1 = sns.lineplot(data = df_eda, x = df_eda.index.month, y = 'ghi_derived', color='r')\n",
    "ax1.set(title='GHI (W/$m^2$) & Humidity Per Month', xlabel='Month', xticks =(range(1,13)))\n",
    "ax2 = ax1.twinx()\n",
    "ax2 = sns.lineplot(data = df_eda, x = df_eda.index.month, y = 'humidity', color='g')\n",
    "ax2.set(ylabel='Humidity')\n",
    "ax1.set_ylabel('GHI (W/$m^2$)', color='r', fontsize=14)\n",
    "ax2.set_ylabel('Relative Humidity', color='g', fontsize=14);\n",
    "#plt.savefig('ghi_humidity')"
   ]
  },
  {
   "cell_type": "markdown",
   "id": "bebd62f8",
   "metadata": {},
   "source": [
    "The correlation as it appears between the GHI and Humidity is negative.\\\n",
    "when there is high relative humidity (wet period), solar radiation will be low while in dry season, the solar radiation will be high, showing that relative humidity has effects on solar radiation of a place"
   ]
  },
  {
   "cell_type": "code",
   "execution_count": 33,
   "id": "214dc848",
   "metadata": {
    "ExecuteTime": {
     "end_time": "2022-01-14T08:40:59.197155Z",
     "start_time": "2022-01-14T08:40:58.010307Z"
    },
    "scrolled": false
   },
   "outputs": [
    {
     "data": {
      "image/png": "[encoded data removed]",
      "text/plain": [
       "<Figure size 1008x432 with 1 Axes>"
      ]
     },
     "metadata": {},
     "output_type": "display_data"
    }
   ],
   "source": [
    "plt.figure(figsize=(14, 6), dpi=72)\n",
    "\n",
    "ax = sns.boxplot(data = df_eda, x = 'location', y = 'ghi_derived', palette='Set2');\n",
    "ax.set(title = 'GHI (W/$m^2$) For Each City', xlabel = 'City', ylabel = 'GHI (W/$m^2$)');\n",
    "#plt.savefig('ghi_city.jpg')"
   ]
  },
  {
   "cell_type": "markdown",
   "id": "6b23ccc3",
   "metadata": {},
   "source": [
    "There are not much difference between the locations for the GHI values.\\\n",
    "The median are about the same, but we see an edge for Sharurah and Abha mostly."
   ]
  },
  {
   "cell_type": "code",
   "execution_count": 34,
   "id": "1d91abcc",
   "metadata": {
    "ExecuteTime": {
     "end_time": "2022-01-14T08:41:00.043267Z",
     "start_time": "2022-01-14T08:40:59.200154Z"
    }
   },
   "outputs": [
    {
     "data": {
      "text/plain": [
       "[Text(0.5, 1.0, 'Average GHI Per Location (Monthly)'),\n",
       " Text(0.5, 52.0, 'Month'),\n",
       " Text(70.0, 0.5, 'Location')]"
      ]
     },
     "execution_count": 34,
     "metadata": {},
     "output_type": "execute_result"
    },
    {
     "data": {
      "image/png": "[encoded data removed]",
      "text/plain": [
       "<Figure size 720x576 with 2 Axes>"
      ]
     },
     "metadata": {},
     "output_type": "display_data"
    }
   ],
   "source": [
    "plt.figure(figsize=(10, 8), dpi=72)\n",
    "table = pd.pivot_table(df_eda, values='ghi_derived', index='location', columns=df_eda.index.month)\n",
    "ax = sns.heatmap(table);\n",
    "ax.set(title='Average GHI Per Location (Monthly)', xlabel = 'Month', ylabel='Location')\n",
    "#plt.savefig('heatmap')"
   ]
  },
  {
   "cell_type": "markdown",
   "id": "cf7e5c84",
   "metadata": {},
   "source": [
    "The heatmap shows the average GHI for each location in each month.\\\n",
    "June is the optimal month for the average GHI, but there is some consistency over the months\\\n",
    "for Wadi Aldawasser, Sharurah."
   ]
  },
  {
   "cell_type": "code",
   "execution_count": 35,
   "id": "6c49737a",
   "metadata": {
    "ExecuteTime": {
     "end_time": "2022-01-14T08:41:02.828380Z",
     "start_time": "2022-01-14T08:41:00.047265Z"
    },
    "scrolled": false
   },
   "outputs": [
    {
     "data": {
      "image/png": "[encoded data removed]",
      "text/plain": [
       "<Figure size 576x432 with 1 Axes>"
      ]
     },
     "metadata": {},
     "output_type": "display_data"
    }
   ],
   "source": [
    "sharurah = df_eda[df_eda['location'] == 'Sharurah']\n",
    "plt.figure(figsize=(8, 6), dpi=72)\n",
    "ax1 = sns.lineplot(data = sharurah, x = sharurah.index.month, y = 'ghi_derived', color='r', ci=0)\n",
    "ax1.set(title='GHI (W/$m^2$) per Month (Sharurah)',  xlabel='Month',ylabel='GHI (W/$m^2$)', xticks =(range(1,13)));\n",
    "#plt.savefig('ghi_sharurah.jpg')"
   ]
  },
  {
   "cell_type": "markdown",
   "id": "adc55ca4",
   "metadata": {},
   "source": [
    "A closer look the graph confirms that June is the month with the most average GHI.\\\n",
    "We can also see that from February until September is the expected time to generate more solar energy."
   ]
  },
  {
   "cell_type": "code",
   "execution_count": 36,
   "id": "3807d057",
   "metadata": {
    "ExecuteTime": {
     "end_time": "2022-01-14T08:41:02.858865Z",
     "start_time": "2022-01-14T08:41:02.830380Z"
    }
   },
   "outputs": [],
   "source": [
    "may = sharurah.loc['May, 2000': 'May, 2002']"
   ]
  },
  {
   "cell_type": "code",
   "execution_count": 37,
   "id": "a03d7225",
   "metadata": {
    "ExecuteTime": {
     "end_time": "2022-01-14T08:41:05.028425Z",
     "start_time": "2022-01-14T08:41:02.860863Z"
    }
   },
   "outputs": [
    {
     "data": {
      "image/png": "[encoded data removed]",
      "text/plain": [
       "<Figure size 576x432 with 1 Axes>"
      ]
     },
     "metadata": {},
     "output_type": "display_data"
    }
   ],
   "source": [
    "plt.figure(figsize=(8, 6), dpi=72)\n",
    "ax1 = sns.lineplot(data = may, x = may.index.hour, y = 'ghi_derived', color='g')\n",
    "ax1.set(title='Hourly GHI (W/$m^2$) For Sharurah in May',  xlabel='Hour',ylabel='GHI (W/$m^2$)');\n",
    "#plt.savefig('sharurah_hourly')"
   ]
  },
  {
   "cell_type": "markdown",
   "id": "6574f1dc",
   "metadata": {},
   "source": [
    "An even deeper look into the hour of month May for Sharurah.\\\n",
    "starting from early 5:30AM until 6PM. So the prime time would be from 9AM, to 2:30PM."
   ]
  },
  {
   "cell_type": "markdown",
   "id": "49584f94",
   "metadata": {
    "id": "mEWa2pK09tO1",
    "outputId": "3079014f-07dd-40ba-cdd5-535c4b791884"
   },
   "source": [
    "# ML Modelling"
   ]
  },
  {
   "cell_type": "code",
   "execution_count": 38,
   "id": "37953713",
   "metadata": {
    "ExecuteTime": {
     "end_time": "2022-01-14T08:41:05.982183Z",
     "start_time": "2022-01-14T08:41:05.030424Z"
    }
   },
   "outputs": [
    {
     "data": {
      "text/html": [
       "<style  type=\"text/css\" >\n",
       "#T_f4f1d_row0_col0,#T_f4f1d_row1_col1,#T_f4f1d_row2_col2,#T_f4f1d_row3_col3,#T_f4f1d_row4_col4,#T_f4f1d_row5_col5,#T_f4f1d_row6_col6,#T_f4f1d_row7_col7{\n",
       "            background-color:  #b40426;\n",
       "            color:  #f1f1f1;\n",
       "        }#T_f4f1d_row0_col1{\n",
       "            background-color:  #d65244;\n",
       "            color:  #000000;\n",
       "        }#T_f4f1d_row0_col2{\n",
       "            background-color:  #e67259;\n",
       "            color:  #000000;\n",
       "        }#T_f4f1d_row0_col3{\n",
       "            background-color:  #edd2c3;\n",
       "            color:  #000000;\n",
       "        }#T_f4f1d_row0_col4{\n",
       "            background-color:  #6384eb;\n",
       "            color:  #000000;\n",
       "        }#T_f4f1d_row0_col5{\n",
       "            background-color:  #84a7fc;\n",
       "            color:  #000000;\n",
       "        }#T_f4f1d_row0_col6,#T_f4f1d_row1_col5,#T_f4f1d_row7_col1{\n",
       "            background-color:  #8caffe;\n",
       "            color:  #000000;\n",
       "        }#T_f4f1d_row0_col7{\n",
       "            background-color:  #85a8fc;\n",
       "            color:  #000000;\n",
       "        }#T_f4f1d_row1_col0{\n",
       "            background-color:  #d55042;\n",
       "            color:  #000000;\n",
       "        }#T_f4f1d_row1_col2{\n",
       "            background-color:  #f6bda2;\n",
       "            color:  #000000;\n",
       "        }#T_f4f1d_row1_col3{\n",
       "            background-color:  #dadce0;\n",
       "            color:  #000000;\n",
       "        }#T_f4f1d_row1_col4{\n",
       "            background-color:  #6485ec;\n",
       "            color:  #000000;\n",
       "        }#T_f4f1d_row1_col6{\n",
       "            background-color:  #89acfd;\n",
       "            color:  #000000;\n",
       "        }#T_f4f1d_row1_col7{\n",
       "            background-color:  #96b7ff;\n",
       "            color:  #000000;\n",
       "        }#T_f4f1d_row2_col0{\n",
       "            background-color:  #e46e56;\n",
       "            color:  #000000;\n",
       "        }#T_f4f1d_row2_col1{\n",
       "            background-color:  #f7b599;\n",
       "            color:  #000000;\n",
       "        }#T_f4f1d_row2_col3{\n",
       "            background-color:  #edd1c2;\n",
       "            color:  #000000;\n",
       "        }#T_f4f1d_row2_col4{\n",
       "            background-color:  #7597f6;\n",
       "            color:  #000000;\n",
       "        }#T_f4f1d_row2_col5,#T_f4f1d_row5_col1,#T_f4f1d_row7_col6{\n",
       "            background-color:  #7ea1fa;\n",
       "            color:  #000000;\n",
       "        }#T_f4f1d_row2_col6{\n",
       "            background-color:  #8fb1fe;\n",
       "            color:  #000000;\n",
       "        }#T_f4f1d_row2_col7{\n",
       "            background-color:  #7295f4;\n",
       "            color:  #000000;\n",
       "        }#T_f4f1d_row3_col0{\n",
       "            background-color:  #dedcdb;\n",
       "            color:  #000000;\n",
       "        }#T_f4f1d_row3_col1{\n",
       "            background-color:  #c4d5f3;\n",
       "            color:  #000000;\n",
       "        }#T_f4f1d_row3_col2{\n",
       "            background-color:  #d6dce4;\n",
       "            color:  #000000;\n",
       "        }#T_f4f1d_row3_col4,#T_f4f1d_row3_col7,#T_f4f1d_row4_col0,#T_f4f1d_row4_col1,#T_f4f1d_row4_col2,#T_f4f1d_row4_col3,#T_f4f1d_row4_col5,#T_f4f1d_row4_col6{\n",
       "            background-color:  #3b4cc0;\n",
       "            color:  #f1f1f1;\n",
       "        }#T_f4f1d_row3_col5{\n",
       "            background-color:  #6e90f2;\n",
       "            color:  #000000;\n",
       "        }#T_f4f1d_row3_col6{\n",
       "            background-color:  #94b6ff;\n",
       "            color:  #000000;\n",
       "        }#T_f4f1d_row4_col7{\n",
       "            background-color:  #6a8bef;\n",
       "            color:  #000000;\n",
       "        }#T_f4f1d_row5_col0,#T_f4f1d_row6_col1,#T_f4f1d_row6_col5{\n",
       "            background-color:  #7699f6;\n",
       "            color:  #000000;\n",
       "        }#T_f4f1d_row5_col2{\n",
       "            background-color:  #5e7de7;\n",
       "            color:  #000000;\n",
       "        }#T_f4f1d_row5_col3,#T_f4f1d_row7_col4{\n",
       "            background-color:  #88abfd;\n",
       "            color:  #000000;\n",
       "        }#T_f4f1d_row5_col4{\n",
       "            background-color:  #5470de;\n",
       "            color:  #000000;\n",
       "        }#T_f4f1d_row5_col6{\n",
       "            background-color:  #7b9ff9;\n",
       "            color:  #000000;\n",
       "        }#T_f4f1d_row5_col7{\n",
       "            background-color:  #4e68d8;\n",
       "            color:  #000000;\n",
       "        }#T_f4f1d_row6_col0{\n",
       "            background-color:  #7a9df8;\n",
       "            color:  #000000;\n",
       "        }#T_f4f1d_row6_col2{\n",
       "            background-color:  #6b8df0;\n",
       "            color:  #000000;\n",
       "        }#T_f4f1d_row6_col3{\n",
       "            background-color:  #a6c4fe;\n",
       "            color:  #000000;\n",
       "        }#T_f4f1d_row6_col4{\n",
       "            background-color:  #4f69d9;\n",
       "            color:  #000000;\n",
       "        }#T_f4f1d_row6_col7{\n",
       "            background-color:  #7396f5;\n",
       "            color:  #000000;\n",
       "        }#T_f4f1d_row7_col0{\n",
       "            background-color:  #7da0f9;\n",
       "            color:  #000000;\n",
       "        }#T_f4f1d_row7_col2{\n",
       "            background-color:  #5673e0;\n",
       "            color:  #000000;\n",
       "        }#T_f4f1d_row7_col3{\n",
       "            background-color:  #5977e3;\n",
       "            color:  #000000;\n",
       "        }#T_f4f1d_row7_col5{\n",
       "            background-color:  #536edd;\n",
       "            color:  #000000;\n",
       "        }</style><table id=\"T_f4f1d_\" ><thead>    <tr>        <th class=\"blank level0\" ></th>        <th class=\"col_heading level0 col0\" >ghi_derived</th>        <th class=\"col_heading level0 col1\" >dni</th>        <th class=\"col_heading level0 col2\" >dhi</th>        <th class=\"col_heading level0 col3\" >air_temperature</th>        <th class=\"col_heading level0 col4\" >humidity</th>        <th class=\"col_heading level0 col5\" >latitude</th>        <th class=\"col_heading level0 col6\" >longitude</th>        <th class=\"col_heading level0 col7\" >elevation</th>    </tr></thead><tbody>\n",
       "                <tr>\n",
       "                        <th id=\"T_f4f1d_level0_row0\" class=\"row_heading level0 row0\" >ghi_derived</th>\n",
       "                        <td id=\"T_f4f1d_row0_col0\" class=\"data row0 col0\" >1.000000</td>\n",
       "                        <td id=\"T_f4f1d_row0_col1\" class=\"data row0 col1\" >0.879097</td>\n",
       "                        <td id=\"T_f4f1d_row0_col2\" class=\"data row0 col2\" >0.808905</td>\n",
       "                        <td id=\"T_f4f1d_row0_col3\" class=\"data row0 col3\" >0.386590</td>\n",
       "                        <td id=\"T_f4f1d_row0_col4\" class=\"data row0 col4\" >-0.241301</td>\n",
       "                        <td id=\"T_f4f1d_row0_col5\" class=\"data row0 col5\" >-0.012956</td>\n",
       "                        <td id=\"T_f4f1d_row0_col6\" class=\"data row0 col6\" >0.003539</td>\n",
       "                        <td id=\"T_f4f1d_row0_col7\" class=\"data row0 col7\" >0.013171</td>\n",
       "            </tr>\n",
       "            <tr>\n",
       "                        <th id=\"T_f4f1d_level0_row1\" class=\"row_heading level0 row1\" >dni</th>\n",
       "                        <td id=\"T_f4f1d_row1_col0\" class=\"data row1 col0\" >0.879097</td>\n",
       "                        <td id=\"T_f4f1d_row1_col1\" class=\"data row1 col1\" >1.000000</td>\n",
       "                        <td id=\"T_f4f1d_row1_col2\" class=\"data row1 col2\" >0.594678</td>\n",
       "                        <td id=\"T_f4f1d_row1_col3\" class=\"data row1 col3\" >0.272561</td>\n",
       "                        <td id=\"T_f4f1d_row1_col4\" class=\"data row1 col4\" >-0.235275</td>\n",
       "                        <td id=\"T_f4f1d_row1_col5\" class=\"data row1 col5\" >0.021800</td>\n",
       "                        <td id=\"T_f4f1d_row1_col6\" class=\"data row1 col6\" >-0.008472</td>\n",
       "                        <td id=\"T_f4f1d_row1_col7\" class=\"data row1 col7\" >0.069518</td>\n",
       "            </tr>\n",
       "            <tr>\n",
       "                        <th id=\"T_f4f1d_level0_row2\" class=\"row_heading level0 row2\" >dhi</th>\n",
       "                        <td id=\"T_f4f1d_row2_col0\" class=\"data row2 col0\" >0.808905</td>\n",
       "                        <td id=\"T_f4f1d_row2_col1\" class=\"data row2 col1\" >0.594678</td>\n",
       "                        <td id=\"T_f4f1d_row2_col2\" class=\"data row2 col2\" >1.000000</td>\n",
       "                        <td id=\"T_f4f1d_row2_col3\" class=\"data row2 col3\" >0.389499</td>\n",
       "                        <td id=\"T_f4f1d_row2_col4\" class=\"data row2 col4\" >-0.164850</td>\n",
       "                        <td id=\"T_f4f1d_row2_col5\" class=\"data row2 col5\" >-0.032492</td>\n",
       "                        <td id=\"T_f4f1d_row2_col6\" class=\"data row2 col6\" >0.013148</td>\n",
       "                        <td id=\"T_f4f1d_row2_col7\" class=\"data row2 col7\" >-0.056646</td>\n",
       "            </tr>\n",
       "            <tr>\n",
       "                        <th id=\"T_f4f1d_level0_row3\" class=\"row_heading level0 row3\" >air_temperature</th>\n",
       "                        <td id=\"T_f4f1d_row3_col0\" class=\"data row3 col0\" >0.386590</td>\n",
       "                        <td id=\"T_f4f1d_row3_col1\" class=\"data row3 col1\" >0.272561</td>\n",
       "                        <td id=\"T_f4f1d_row3_col2\" class=\"data row3 col2\" >0.389499</td>\n",
       "                        <td id=\"T_f4f1d_row3_col3\" class=\"data row3 col3\" >1.000000</td>\n",
       "                        <td id=\"T_f4f1d_row3_col4\" class=\"data row3 col4\" >-0.425722</td>\n",
       "                        <td id=\"T_f4f1d_row3_col5\" class=\"data row3 col5\" >-0.091234</td>\n",
       "                        <td id=\"T_f4f1d_row3_col6\" class=\"data row3 col6\" >0.031831</td>\n",
       "                        <td id=\"T_f4f1d_row3_col7\" class=\"data row3 col7\" >-0.281828</td>\n",
       "            </tr>\n",
       "            <tr>\n",
       "                        <th id=\"T_f4f1d_level0_row4\" class=\"row_heading level0 row4\" >humidity</th>\n",
       "                        <td id=\"T_f4f1d_row4_col0\" class=\"data row4 col0\" >-0.241301</td>\n",
       "                        <td id=\"T_f4f1d_row4_col1\" class=\"data row4 col1\" >-0.235275</td>\n",
       "                        <td id=\"T_f4f1d_row4_col2\" class=\"data row4 col2\" >-0.164850</td>\n",
       "                        <td id=\"T_f4f1d_row4_col3\" class=\"data row4 col3\" >-0.425722</td>\n",
       "                        <td id=\"T_f4f1d_row4_col4\" class=\"data row4 col4\" >1.000000</td>\n",
       "                        <td id=\"T_f4f1d_row4_col5\" class=\"data row4 col5\" >-0.303736</td>\n",
       "                        <td id=\"T_f4f1d_row4_col6\" class=\"data row4 col6\" >-0.327626</td>\n",
       "                        <td id=\"T_f4f1d_row4_col7\" class=\"data row4 col7\" >-0.089907</td>\n",
       "            </tr>\n",
       "            <tr>\n",
       "                        <th id=\"T_f4f1d_level0_row5\" class=\"row_heading level0 row5\" >latitude</th>\n",
       "                        <td id=\"T_f4f1d_row5_col0\" class=\"data row5 col0\" >-0.012956</td>\n",
       "                        <td id=\"T_f4f1d_row5_col1\" class=\"data row5 col1\" >0.021800</td>\n",
       "                        <td id=\"T_f4f1d_row5_col2\" class=\"data row5 col2\" >-0.032492</td>\n",
       "                        <td id=\"T_f4f1d_row5_col3\" class=\"data row5 col3\" >-0.091234</td>\n",
       "                        <td id=\"T_f4f1d_row5_col4\" class=\"data row5 col4\" >-0.303736</td>\n",
       "                        <td id=\"T_f4f1d_row5_col5\" class=\"data row5 col5\" >1.000000</td>\n",
       "                        <td id=\"T_f4f1d_row5_col6\" class=\"data row5 col6\" >-0.062532</td>\n",
       "                        <td id=\"T_f4f1d_row5_col7\" class=\"data row5 col7\" >-0.201162</td>\n",
       "            </tr>\n",
       "            <tr>\n",
       "                        <th id=\"T_f4f1d_level0_row6\" class=\"row_heading level0 row6\" >longitude</th>\n",
       "                        <td id=\"T_f4f1d_row6_col0\" class=\"data row6 col0\" >0.003539</td>\n",
       "                        <td id=\"T_f4f1d_row6_col1\" class=\"data row6 col1\" >-0.008472</td>\n",
       "                        <td id=\"T_f4f1d_row6_col2\" class=\"data row6 col2\" >0.013148</td>\n",
       "                        <td id=\"T_f4f1d_row6_col3\" class=\"data row6 col3\" >0.031831</td>\n",
       "                        <td id=\"T_f4f1d_row6_col4\" class=\"data row6 col4\" >-0.327626</td>\n",
       "                        <td id=\"T_f4f1d_row6_col5\" class=\"data row6 col5\" >-0.062532</td>\n",
       "                        <td id=\"T_f4f1d_row6_col6\" class=\"data row6 col6\" >1.000000</td>\n",
       "                        <td id=\"T_f4f1d_row6_col7\" class=\"data row6 col7\" >-0.052165</td>\n",
       "            </tr>\n",
       "            <tr>\n",
       "                        <th id=\"T_f4f1d_level0_row7\" class=\"row_heading level0 row7\" >elevation</th>\n",
       "                        <td id=\"T_f4f1d_row7_col0\" class=\"data row7 col0\" >0.013171</td>\n",
       "                        <td id=\"T_f4f1d_row7_col1\" class=\"data row7 col1\" >0.069518</td>\n",
       "                        <td id=\"T_f4f1d_row7_col2\" class=\"data row7 col2\" >-0.056646</td>\n",
       "                        <td id=\"T_f4f1d_row7_col3\" class=\"data row7 col3\" >-0.281828</td>\n",
       "                        <td id=\"T_f4f1d_row7_col4\" class=\"data row7 col4\" >-0.089907</td>\n",
       "                        <td id=\"T_f4f1d_row7_col5\" class=\"data row7 col5\" >-0.201162</td>\n",
       "                        <td id=\"T_f4f1d_row7_col6\" class=\"data row7 col6\" >-0.052165</td>\n",
       "                        <td id=\"T_f4f1d_row7_col7\" class=\"data row7 col7\" >1.000000</td>\n",
       "            </tr>\n",
       "    </tbody></table>"
      ],
      "text/plain": [
       "<pandas.io.formats.style.Styler at 0x1d502d443a0>"
      ]
     },
     "execution_count": 38,
     "metadata": {},
     "output_type": "execute_result"
    }
   ],
   "source": [
    "# Finding the correlations\n",
    "corr = df.corr()\n",
    "corr.style.background_gradient(cmap='coolwarm')"
   ]
  },
  {
   "cell_type": "markdown",
   "id": "1cbc365f",
   "metadata": {},
   "source": [
    "Looking at the correlations above, it's a fairly low correlations to build something reliable.\\\n",
    "Air Temperature has a weak correlation, humidity has a weak negative correlation.\\\n",
    "<br>\n",
    "As for DNI and DHI, we can't use them both. Because there's a multicollinearity. Also:\\\n",
    "Global Horizontal (GHI) = Direct Normal (DNI) X cos(θ) + Diffuse Horizontal (DHI)\n",
    "<br>\n",
    "So we have some trial and error to do, and lastly. Since we have datetime column, we can do a time series forecast."
   ]
  },
  {
   "cell_type": "markdown",
   "id": "836ed80e",
   "metadata": {},
   "source": [
    "### Baseline Model"
   ]
  },
  {
   "cell_type": "code",
   "execution_count": 39,
   "id": "00196470",
   "metadata": {
    "ExecuteTime": {
     "end_time": "2022-01-14T08:41:06.243027Z",
     "start_time": "2022-01-14T08:41:05.985181Z"
    }
   },
   "outputs": [],
   "source": [
    "# Taking a subset of the data frame for 'Abha'\n",
    "abha = df[df['location'] == 'Abha']"
   ]
  },
  {
   "cell_type": "code",
   "execution_count": 40,
   "id": "59f3280e",
   "metadata": {
    "ExecuteTime": {
     "end_time": "2022-01-14T08:41:06.303320Z",
     "start_time": "2022-01-14T08:41:06.245021Z"
    }
   },
   "outputs": [],
   "source": [
    "# Splitting for the baseline model\n",
    "X = abha[['air_temperature', 'humidity']]\n",
    "y = abha['ghi_derived']\n",
    "\n",
    "X_train, X_test, y_train, y_test = train_test_split(X, y, train_size=0.8, random_state=42)"
   ]
  },
  {
   "cell_type": "code",
   "execution_count": 41,
   "id": "ef7b4ac5",
   "metadata": {
    "ExecuteTime": {
     "end_time": "2022-01-14T08:42:05.556641Z",
     "start_time": "2022-01-14T08:41:06.305318Z"
    }
   },
   "outputs": [],
   "source": [
    "lr = RandomForestRegressor()\n",
    "lr.fit(X_train, y_train)\n",
    "y_pred = lr.predict(X_test)"
   ]
  },
  {
   "cell_type": "code",
   "execution_count": 42,
   "id": "2d1cf886",
   "metadata": {
    "ExecuteTime": {
     "end_time": "2022-01-14T08:42:08.360044Z",
     "start_time": "2022-01-14T08:42:05.557635Z"
    }
   },
   "outputs": [
    {
     "name": "stdout",
     "output_type": "stream",
     "text": [
      "R²: 0.3338256235489834\n",
      "MSE: 79110.2\n",
      "MAE: 196.98\n"
     ]
    }
   ],
   "source": [
    "print(f'R\\u00b2: {lr.score(X_test, y_test)}')\n",
    "print(f'MSE: {round(mean_squared_error(y_test, y_pred),2)}')\n",
    "print(f'MAE: {round(mean_absolute_error(y_test, y_pred),2)}')"
   ]
  },
  {
   "cell_type": "markdown",
   "id": "c70f2d25",
   "metadata": {},
   "source": [
    "Taking an interval of 1-hour of the data (less computational power) for the whole 3 years.\\\n",
    "We chose Abha city earlier, so we will go with that."
   ]
  },
  {
   "cell_type": "code",
   "execution_count": 43,
   "id": "c780cb3d",
   "metadata": {
    "ExecuteTime": {
     "end_time": "2022-01-14T08:42:08.391025Z",
     "start_time": "2022-01-14T08:42:08.362043Z"
    },
    "scrolled": true
   },
   "outputs": [
    {
     "data": {
      "text/plain": [
       "0.00       12423\n",
       "1000.00      771\n",
       "479.76         3\n",
       "809.52         3\n",
       "24.26          3\n",
       "           ...  \n",
       "409.59         1\n",
       "963.03         1\n",
       "480.02         1\n",
       "186.27         1\n",
       "738.50         1\n",
       "Name: ghi_derived, Length: 11078, dtype: int64"
      ]
     },
     "execution_count": 43,
     "metadata": {},
     "output_type": "execute_result"
    }
   ],
   "source": [
    "# Specifying the date, month, interval of the data \n",
    "idx = pd.date_range(start = '2000-01-01', end = '2002-12-31', freq='1H')\n",
    "abha_yearly = abha[abha.index.isin(idx)]\n",
    "\n",
    "abha_yearly['ghi_derived'].value_counts()"
   ]
  },
  {
   "cell_type": "markdown",
   "id": "9e2e0a25",
   "metadata": {},
   "source": [
    "### Using The Target As The Predictor"
   ]
  },
  {
   "cell_type": "markdown",
   "id": "46b75ff9",
   "metadata": {},
   "source": [
    "Since we don't have strong or enough correlations to build the model with a reliable accuracy.\\\n",
    "We have to take the target as a predictor too. We have to shift the target by (-1) first."
   ]
  },
  {
   "cell_type": "code",
   "execution_count": 44,
   "id": "cf145429",
   "metadata": {
    "ExecuteTime": {
     "end_time": "2022-01-14T08:42:08.421007Z",
     "start_time": "2022-01-14T08:42:08.393026Z"
    }
   },
   "outputs": [
    {
     "data": {
      "text/html": [
       "<div>\n",
       "<style scoped>\n",
       "    .dataframe tbody tr th:only-of-type {\n",
       "        vertical-align: middle;\n",
       "    }\n",
       "\n",
       "    .dataframe tbody tr th {\n",
       "        vertical-align: top;\n",
       "    }\n",
       "\n",
       "    .dataframe thead th {\n",
       "        text-align: right;\n",
       "    }\n",
       "</style>\n",
       "<table border=\"1\" class=\"dataframe\">\n",
       "  <thead>\n",
       "    <tr style=\"text-align: right;\">\n",
       "      <th></th>\n",
       "      <th>ghi_derived</th>\n",
       "      <th>target</th>\n",
       "    </tr>\n",
       "    <tr>\n",
       "      <th>date</th>\n",
       "      <th></th>\n",
       "      <th></th>\n",
       "    </tr>\n",
       "  </thead>\n",
       "  <tbody>\n",
       "    <tr>\n",
       "      <th>2000-01-01 01:00:00</th>\n",
       "      <td>0.0</td>\n",
       "      <td>0.0</td>\n",
       "    </tr>\n",
       "    <tr>\n",
       "      <th>2000-01-01 02:00:00</th>\n",
       "      <td>0.0</td>\n",
       "      <td>0.0</td>\n",
       "    </tr>\n",
       "    <tr>\n",
       "      <th>2000-01-01 03:00:00</th>\n",
       "      <td>0.0</td>\n",
       "      <td>0.0</td>\n",
       "    </tr>\n",
       "  </tbody>\n",
       "</table>\n",
       "</div>"
      ],
      "text/plain": [
       "                     ghi_derived  target\n",
       "date                                    \n",
       "2000-01-01 01:00:00          0.0     0.0\n",
       "2000-01-01 02:00:00          0.0     0.0\n",
       "2000-01-01 03:00:00          0.0     0.0"
      ]
     },
     "execution_count": 44,
     "metadata": {},
     "output_type": "execute_result"
    }
   ],
   "source": [
    "# dependant and independant variables are the same. Just shifted the target -1\n",
    "# To make the target the upcoming hour.\n",
    "abha_yearly = abha_yearly[['ghi_derived']].copy()\n",
    "abha_yearly['target'] = abha_yearly.ghi_derived.shift(-1)\n",
    "abha_yearly.dropna(inplace=True)\n",
    "abha_yearly.head(3)"
   ]
  },
  {
   "cell_type": "code",
   "execution_count": 45,
   "id": "2b6b05d4",
   "metadata": {
    "ExecuteTime": {
     "end_time": "2022-01-14T08:42:08.438002Z",
     "start_time": "2022-01-14T08:42:08.423005Z"
    }
   },
   "outputs": [],
   "source": [
    "# Train, Test, Split\n",
    "\n",
    "X = abha_yearly[['ghi_derived']]\n",
    "y = abha_yearly['target']\n",
    "\n",
    "X_train, X_test, y_train, y_test = train_test_split(X, y, train_size=0.8, random_state=42)"
   ]
  },
  {
   "cell_type": "markdown",
   "id": "67b817a3",
   "metadata": {},
   "source": [
    "#### Random Forest"
   ]
  },
  {
   "cell_type": "code",
   "execution_count": 46,
   "id": "2c3d7d3a",
   "metadata": {
    "ExecuteTime": {
     "end_time": "2022-01-14T08:42:08.544935Z",
     "start_time": "2022-01-14T08:42:08.440995Z"
    }
   },
   "outputs": [
    {
     "data": {
      "text/plain": [
       "RandomForestRegressor(n_estimators=6, random_state=42)"
      ]
     },
     "execution_count": 46,
     "metadata": {},
     "output_type": "execute_result"
    }
   ],
   "source": [
    "rf_model = RandomForestRegressor(n_estimators=6, random_state=42)\n",
    "rf_model.fit(X_train, y_train)"
   ]
  },
  {
   "cell_type": "code",
   "execution_count": 47,
   "id": "6c35577e",
   "metadata": {
    "ExecuteTime": {
     "end_time": "2022-01-14T08:42:08.589907Z",
     "start_time": "2022-01-14T08:42:08.546934Z"
    },
    "scrolled": true
   },
   "outputs": [
    {
     "name": "stdout",
     "output_type": "stream",
     "text": [
      "\\R²: 0.7541980277556251\n",
      "MSE: 28835.89\n",
      "MAE: 96.78\n"
     ]
    }
   ],
   "source": [
    "y_pred = rf_model.predict(X_test)\n",
    "rf_model.score(X_test, y_test)\n",
    "print(f'\\R\\u00b2: {rf_model.score(X_test, y_test)}')\n",
    "print(f'MSE: {round(mean_squared_error(y_test, y_pred),2)}')\n",
    "print(f'MAE: {round(mean_absolute_error(y_test, y_pred),2)}')"
   ]
  },
  {
   "cell_type": "markdown",
   "id": "75b36017",
   "metadata": {},
   "source": [
    "We see an improvement when we changed the approach, now we can predict an hour ahead.\\\n",
    "Let's see if we can push the model with selecting different parameters."
   ]
  },
  {
   "cell_type": "code",
   "execution_count": 48,
   "id": "ed116316",
   "metadata": {
    "ExecuteTime": {
     "end_time": "2022-01-14T08:42:08.605144Z",
     "start_time": "2022-01-14T08:42:08.592146Z"
    }
   },
   "outputs": [],
   "source": [
    "# Storing lists of different parameters.\n",
    "n_estimators = [int(x) for x in np.linspace(start = 500, stop = 1000, num = 50)]\n",
    "max_features = ['auto', 'sqrt']\n",
    "max_depth = [int(x) for x in np.linspace(1, 10, num = 1)]\n",
    "max_depth.append(None)\n",
    "min_samples_split = [2, 5, 10]\n",
    "min_samples_leaf = [1, 2, 4]\n",
    "bootstrap = [True, False]\n",
    "\n",
    "# Create the random grid\n",
    "random_grid = {'n_estimators': n_estimators,\n",
    "               'max_features': max_features,\n",
    "               'max_depth': max_depth,\n",
    "               'min_samples_split': min_samples_split,\n",
    "               'min_samples_leaf': min_samples_leaf,\n",
    "               'bootstrap': bootstrap}"
   ]
  },
  {
   "cell_type": "code",
   "execution_count": 49,
   "id": "9b2b64b2",
   "metadata": {
    "ExecuteTime": {
     "end_time": "2022-01-14T08:44:01.131912Z",
     "start_time": "2022-01-14T08:42:08.608144Z"
    }
   },
   "outputs": [
    {
     "name": "stdout",
     "output_type": "stream",
     "text": [
      "Fitting 5 folds for each of 10 candidates, totalling 50 fits\n"
     ]
    },
    {
     "data": {
      "text/plain": [
       "RandomizedSearchCV(cv=5, estimator=RandomForestRegressor(), n_jobs=-1,\n",
       "                   param_distributions={'bootstrap': [True, False],\n",
       "                                        'max_depth': [1, None],\n",
       "                                        'max_features': ['auto', 'sqrt'],\n",
       "                                        'min_samples_leaf': [1, 2, 4],\n",
       "                                        'min_samples_split': [2, 5, 10],\n",
       "                                        'n_estimators': [500, 510, 520, 530,\n",
       "                                                         540, 551, 561, 571,\n",
       "                                                         581, 591, 602, 612,\n",
       "                                                         622, 632, 642, 653,\n",
       "                                                         663, 673, 683, 693,\n",
       "                                                         704, 714, 724, 734,\n",
       "                                                         744, 755, 765, 775,\n",
       "                                                         785, 795, ...]},\n",
       "                   random_state=42, verbose=2)"
      ]
     },
     "execution_count": 49,
     "metadata": {},
     "output_type": "execute_result"
    }
   ],
   "source": [
    "rf = RandomForestRegressor()\n",
    "\n",
    "rf_random = RandomizedSearchCV(\n",
    "    estimator = rf,\n",
    "    param_distributions = random_grid,\n",
    "    n_iter = 10,\n",
    "    cv = 5,\n",
    "    verbose=2,\n",
    "    random_state=42,\n",
    "    n_jobs = -1)\n",
    "\n",
    "rf_random.fit(X_train, y_train)"
   ]
  },
  {
   "cell_type": "code",
   "execution_count": 50,
   "id": "4f78f768",
   "metadata": {
    "ExecuteTime": {
     "end_time": "2022-01-14T08:44:01.192220Z",
     "start_time": "2022-01-14T08:44:01.134911Z"
    },
    "scrolled": true
   },
   "outputs": [
    {
     "data": {
      "text/html": [
       "<div>\n",
       "<style scoped>\n",
       "    .dataframe tbody tr th:only-of-type {\n",
       "        vertical-align: middle;\n",
       "    }\n",
       "\n",
       "    .dataframe tbody tr th {\n",
       "        vertical-align: top;\n",
       "    }\n",
       "\n",
       "    .dataframe thead th {\n",
       "        text-align: right;\n",
       "    }\n",
       "</style>\n",
       "<table border=\"1\" class=\"dataframe\">\n",
       "  <thead>\n",
       "    <tr style=\"text-align: right;\">\n",
       "      <th></th>\n",
       "      <th>param_n_estimators</th>\n",
       "      <th>param_min_samples_split</th>\n",
       "      <th>param_min_samples_leaf</th>\n",
       "      <th>param_max_features</th>\n",
       "      <th>param_max_depth</th>\n",
       "      <th>param_bootstrap</th>\n",
       "      <th>mean_test_score</th>\n",
       "      <th>rank_test_score</th>\n",
       "    </tr>\n",
       "  </thead>\n",
       "  <tbody>\n",
       "    <tr>\n",
       "      <th>3</th>\n",
       "      <td>948</td>\n",
       "      <td>5</td>\n",
       "      <td>4</td>\n",
       "      <td>auto</td>\n",
       "      <td>None</td>\n",
       "      <td>True</td>\n",
       "      <td>0.806576</td>\n",
       "      <td>1</td>\n",
       "    </tr>\n",
       "    <tr>\n",
       "      <th>7</th>\n",
       "      <td>887</td>\n",
       "      <td>10</td>\n",
       "      <td>2</td>\n",
       "      <td>sqrt</td>\n",
       "      <td>None</td>\n",
       "      <td>True</td>\n",
       "      <td>0.803239</td>\n",
       "      <td>2</td>\n",
       "    </tr>\n",
       "    <tr>\n",
       "      <th>4</th>\n",
       "      <td>806</td>\n",
       "      <td>5</td>\n",
       "      <td>2</td>\n",
       "      <td>auto</td>\n",
       "      <td>None</td>\n",
       "      <td>True</td>\n",
       "      <td>0.791536</td>\n",
       "      <td>3</td>\n",
       "    </tr>\n",
       "    <tr>\n",
       "      <th>5</th>\n",
       "      <td>959</td>\n",
       "      <td>2</td>\n",
       "      <td>2</td>\n",
       "      <td>auto</td>\n",
       "      <td>None</td>\n",
       "      <td>True</td>\n",
       "      <td>0.789195</td>\n",
       "      <td>4</td>\n",
       "    </tr>\n",
       "    <tr>\n",
       "      <th>1</th>\n",
       "      <td>571</td>\n",
       "      <td>5</td>\n",
       "      <td>4</td>\n",
       "      <td>sqrt</td>\n",
       "      <td>None</td>\n",
       "      <td>False</td>\n",
       "      <td>0.774041</td>\n",
       "      <td>5</td>\n",
       "    </tr>\n",
       "  </tbody>\n",
       "</table>\n",
       "</div>"
      ],
      "text/plain": [
       "  param_n_estimators param_min_samples_split param_min_samples_leaf  \\\n",
       "3                948                       5                      4   \n",
       "7                887                      10                      2   \n",
       "4                806                       5                      2   \n",
       "5                959                       2                      2   \n",
       "1                571                       5                      4   \n",
       "\n",
       "  param_max_features param_max_depth param_bootstrap  mean_test_score  \\\n",
       "3               auto            None            True         0.806576   \n",
       "7               sqrt            None            True         0.803239   \n",
       "4               auto            None            True         0.791536   \n",
       "5               auto            None            True         0.789195   \n",
       "1               sqrt            None           False         0.774041   \n",
       "\n",
       "   rank_test_score  \n",
       "3                1  \n",
       "7                2  \n",
       "4                3  \n",
       "5                4  \n",
       "1                5  "
      ]
     },
     "execution_count": 50,
     "metadata": {},
     "output_type": "execute_result"
    }
   ],
   "source": [
    "# Getting the best parameter to init the model with.\n",
    "rf_df = pd.DataFrame(rf_random.cv_results_)\n",
    "parameters=['param_n_estimators',\n",
    "           'param_min_samples_split',\n",
    "           'param_min_samples_leaf',\n",
    "           'param_max_features',\n",
    "           'param_max_depth',\n",
    "           'param_bootstrap',\n",
    "           'mean_test_score',\n",
    "           'rank_test_score']\n",
    "\n",
    "rf_df = rf_df[parameters]\n",
    "\n",
    "rf_df.sort_values(by = ['rank_test_score']).head()"
   ]
  },
  {
   "cell_type": "markdown",
   "id": "34a883bc",
   "metadata": {},
   "source": [
    "We converted the cv_results_ into a dataframe and sorted it by ranking. Just to make sure to pick the right ones.\\\n",
    "We see here, 2nd rank has 887 # of estimators compared to the first 948 (more computational power) with a sacrafice of 0.36\\\n",
    "Picking the first one and applying it the second model."
   ]
  },
  {
   "cell_type": "code",
   "execution_count": 51,
   "id": "82d281ef",
   "metadata": {
    "ExecuteTime": {
     "end_time": "2022-01-14T08:44:04.685440Z",
     "start_time": "2022-01-14T08:44:01.194217Z"
    }
   },
   "outputs": [
    {
     "data": {
      "text/plain": [
       "RandomForestRegressor(min_samples_leaf=4, min_samples_split=5, n_estimators=948,\n",
       "                      n_jobs=-1, random_state=42)"
      ]
     },
     "execution_count": 51,
     "metadata": {},
     "output_type": "execute_result"
    }
   ],
   "source": [
    "# initializing the second model of RF with the best params\n",
    "rf_model2 = RandomForestRegressor(\n",
    "    n_estimators=948,\n",
    "    min_samples_split=5,\n",
    "    min_samples_leaf=4,\n",
    "    max_features='auto',\n",
    "    max_depth=None,\n",
    "    bootstrap=True,\n",
    "    random_state=42,\n",
    "    n_jobs=-1\n",
    ")\n",
    "\n",
    "rf_model2.fit(X_train, y_train)"
   ]
  },
  {
   "cell_type": "code",
   "execution_count": 52,
   "id": "84371040",
   "metadata": {
    "ExecuteTime": {
     "end_time": "2022-01-14T08:44:05.483783Z",
     "start_time": "2022-01-14T08:44:04.687440Z"
    },
    "scrolled": true
   },
   "outputs": [
    {
     "name": "stdout",
     "output_type": "stream",
     "text": [
      "R²: 0.8059486077542244\n",
      "MSE: 22764.85\n",
      "MAE: 89.76\n"
     ]
    }
   ],
   "source": [
    "y_pred = rf_model2.predict(X_test)\n",
    "rf_model2.score(X_test, y_test)\n",
    "print(f'R\\u00b2: {rf_model2.score(X_test, y_test)}')\n",
    "print(f'MSE: {round(mean_squared_error(y_test, y_pred),2)}')\n",
    "print(f'MAE: {round(mean_absolute_error(y_test, y_pred),2)}')"
   ]
  },
  {
   "cell_type": "markdown",
   "id": "e657a11b",
   "metadata": {},
   "source": [
    "Another Improvement!\\\n",
    "One more for a supervised learning problem.\\\n",
    "Now with boosting regression."
   ]
  },
  {
   "cell_type": "markdown",
   "id": "5547c1c5",
   "metadata": {},
   "source": [
    "#### XGBoost with Hyperparameter Tuning"
   ]
  },
  {
   "cell_type": "code",
   "execution_count": 53,
   "id": "7ddb693e",
   "metadata": {
    "ExecuteTime": {
     "end_time": "2022-01-14T08:44:48.851686Z",
     "start_time": "2022-01-14T08:44:05.485782Z"
    }
   },
   "outputs": [
    {
     "name": "stdout",
     "output_type": "stream",
     "text": [
      "Fitting 5 folds for each of 18 candidates, totalling 90 fits\n"
     ]
    },
    {
     "data": {
      "text/plain": [
       "GridSearchCV(cv=5,\n",
       "             estimator=XGBRegressor(base_score=None, booster=None,\n",
       "                                    colsample_bylevel=None,\n",
       "                                    colsample_bynode=None,\n",
       "                                    colsample_bytree=None,\n",
       "                                    enable_categorical=False, gamma=None,\n",
       "                                    gpu_id=None, importance_type=None,\n",
       "                                    interaction_constraints=None,\n",
       "                                    learning_rate=None, max_delta_step=None,\n",
       "                                    max_depth=None, min_child_weight=None,\n",
       "                                    missing=nan, monotone_constraints=None,\n",
       "                                    n_estimators=100, n_jobs=None,\n",
       "                                    num_parallel_tree=None, predictor=None,\n",
       "                                    random_state=None, reg_alpha=None,\n",
       "                                    reg_lambda=None, scale_pos_weight=None,\n",
       "                                    subsample=None, tree_method=None,\n",
       "                                    validate_parameters=None, verbosity=None),\n",
       "             param_grid={'learning_rate': [0.01, 0.05, 0.1],\n",
       "                         'max_depth': [3, 6, 10], 'n_estimators': [10, 100]},\n",
       "             scoring='neg_mean_squared_error', verbose=1)"
      ]
     },
     "execution_count": 53,
     "metadata": {},
     "output_type": "execute_result"
    }
   ],
   "source": [
    "xgbr = XGBRegressor()\n",
    "\n",
    "params = { 'max_depth': [3,6,10],\n",
    "           'learning_rate': [0.01, 0.05, 0.1],\n",
    "           'n_estimators': [10, 100]\n",
    "         }\n",
    "\n",
    "clf = GridSearchCV(\n",
    "    estimator=xgbr, \n",
    "    param_grid=params,\n",
    "    scoring='neg_mean_squared_error', \n",
    "    cv = 5,\n",
    "    verbose=1\n",
    ")\n",
    "\n",
    "clf.fit(X_train, y_train)"
   ]
  },
  {
   "cell_type": "code",
   "execution_count": 54,
   "id": "fdbf9370",
   "metadata": {
    "ExecuteTime": {
     "end_time": "2022-01-14T08:44:48.882667Z",
     "start_time": "2022-01-14T08:44:48.853684Z"
    }
   },
   "outputs": [
    {
     "data": {
      "text/html": [
       "<div>\n",
       "<style scoped>\n",
       "    .dataframe tbody tr th:only-of-type {\n",
       "        vertical-align: middle;\n",
       "    }\n",
       "\n",
       "    .dataframe tbody tr th {\n",
       "        vertical-align: top;\n",
       "    }\n",
       "\n",
       "    .dataframe thead th {\n",
       "        text-align: right;\n",
       "    }\n",
       "</style>\n",
       "<table border=\"1\" class=\"dataframe\">\n",
       "  <thead>\n",
       "    <tr style=\"text-align: right;\">\n",
       "      <th></th>\n",
       "      <th>param_max_depth</th>\n",
       "      <th>param_learning_rate</th>\n",
       "      <th>param_n_estimators</th>\n",
       "      <th>mean_test_score</th>\n",
       "      <th>rank_test_score</th>\n",
       "    </tr>\n",
       "  </thead>\n",
       "  <tbody>\n",
       "    <tr>\n",
       "      <th>7</th>\n",
       "      <td>3</td>\n",
       "      <td>0.05</td>\n",
       "      <td>100</td>\n",
       "      <td>-20215.364268</td>\n",
       "      <td>1</td>\n",
       "    </tr>\n",
       "    <tr>\n",
       "      <th>13</th>\n",
       "      <td>3</td>\n",
       "      <td>0.1</td>\n",
       "      <td>100</td>\n",
       "      <td>-20238.826784</td>\n",
       "      <td>2</td>\n",
       "    </tr>\n",
       "    <tr>\n",
       "      <th>9</th>\n",
       "      <td>6</td>\n",
       "      <td>0.05</td>\n",
       "      <td>100</td>\n",
       "      <td>-20358.625166</td>\n",
       "      <td>3</td>\n",
       "    </tr>\n",
       "    <tr>\n",
       "      <th>15</th>\n",
       "      <td>6</td>\n",
       "      <td>0.1</td>\n",
       "      <td>100</td>\n",
       "      <td>-20549.055787</td>\n",
       "      <td>4</td>\n",
       "    </tr>\n",
       "    <tr>\n",
       "      <th>11</th>\n",
       "      <td>10</td>\n",
       "      <td>0.05</td>\n",
       "      <td>100</td>\n",
       "      <td>-20986.641112</td>\n",
       "      <td>5</td>\n",
       "    </tr>\n",
       "  </tbody>\n",
       "</table>\n",
       "</div>"
      ],
      "text/plain": [
       "   param_max_depth param_learning_rate param_n_estimators  mean_test_score  \\\n",
       "7                3                0.05                100    -20215.364268   \n",
       "13               3                 0.1                100    -20238.826784   \n",
       "9                6                0.05                100    -20358.625166   \n",
       "15               6                 0.1                100    -20549.055787   \n",
       "11              10                0.05                100    -20986.641112   \n",
       "\n",
       "    rank_test_score  \n",
       "7                 1  \n",
       "13                2  \n",
       "9                 3  \n",
       "15                4  \n",
       "11                5  "
      ]
     },
     "execution_count": 54,
     "metadata": {},
     "output_type": "execute_result"
    }
   ],
   "source": [
    "clf_df = pd.DataFrame(clf.cv_results_)\n",
    "parameters = ['param_max_depth', 'param_learning_rate', 'param_n_estimators', 'mean_test_score', 'rank_test_score']\n",
    "clf_df = clf_df[parameters].sort_values(by = ['rank_test_score'])\n",
    "clf_df.head()"
   ]
  },
  {
   "cell_type": "markdown",
   "id": "f8adea38",
   "metadata": {},
   "source": [
    "There's no multiple rank 1 here, so we will take the first one with the closest negative mean square to 0.\\\n",
    "which is the first one."
   ]
  },
  {
   "cell_type": "code",
   "execution_count": 55,
   "id": "8886da16",
   "metadata": {
    "ExecuteTime": {
     "end_time": "2022-01-14T08:44:49.464815Z",
     "start_time": "2022-01-14T08:44:48.885665Z"
    }
   },
   "outputs": [
    {
     "data": {
      "text/plain": [
       "XGBRegressor(base_score=0.5, booster='gbtree', colsample_bylevel=1,\n",
       "             colsample_bynode=1, colsample_bytree=1, enable_categorical=False,\n",
       "             gamma=0, gpu_id=-1, importance_type=None,\n",
       "             interaction_constraints='', learning_rate=0.05, max_delta_step=0,\n",
       "             max_depth=3, min_child_weight=1, missing=nan,\n",
       "             monotone_constraints='()', n_estimators=100, n_jobs=8,\n",
       "             num_parallel_tree=1, predictor='auto', random_state=42,\n",
       "             reg_alpha=0, reg_lambda=1, scale_pos_weight=1, subsample=1,\n",
       "             tree_method='exact', validate_parameters=1, verbosity=None)"
      ]
     },
     "execution_count": 55,
     "metadata": {},
     "output_type": "execute_result"
    }
   ],
   "source": [
    "xgbr_model = XGBRegressor(\n",
    "    objective = 'reg:squarederror',\n",
    "    n_estimators=100,\n",
    "    max_depth = 3,\n",
    "    learning_rate=0.05,\n",
    "    random_state=42\n",
    ")\n",
    "xgbr_model.fit(X_train, y_train)"
   ]
  },
  {
   "cell_type": "code",
   "execution_count": 56,
   "id": "6ea96c0e",
   "metadata": {
    "ExecuteTime": {
     "end_time": "2022-01-14T08:44:49.510787Z",
     "start_time": "2022-01-14T08:44:49.467814Z"
    },
    "scrolled": true
   },
   "outputs": [
    {
     "name": "stdout",
     "output_type": "stream",
     "text": [
      "R²: 0.8304850463223229\n",
      "MSE: 19886.39\n",
      "MAE: 88.03\n"
     ]
    }
   ],
   "source": [
    "y_pred = xgbr_model.predict(X_test)\n",
    "xgbr_model.score(X_test, y_test)\n",
    "print(f'R\\u00b2: {xgbr_model.score(X_test, y_test)}')\n",
    "print(f'MSE: {round(mean_squared_error(y_test, y_pred),2)}')\n",
    "print(f'MAE: {round(mean_absolute_error(y_test, y_pred),2)}')"
   ]
  },
  {
   "cell_type": "markdown",
   "id": "9d06a9db",
   "metadata": {},
   "source": [
    "Another Improvement here with Boosting, another way to solve this, is with Time Series models.\\\n",
    "So let's try that with ARMIA model, it stands for: Auto Regressive Integrated Moving Average"
   ]
  },
  {
   "cell_type": "markdown",
   "id": "9a156c45",
   "metadata": {},
   "source": [
    "### Treating it as a Time Series Problem."
   ]
  },
  {
   "cell_type": "code",
   "execution_count": 57,
   "id": "af0e7f18",
   "metadata": {
    "ExecuteTime": {
     "end_time": "2022-01-14T08:44:49.542771Z",
     "start_time": "2022-01-14T08:44:49.513786Z"
    }
   },
   "outputs": [],
   "source": [
    "# Frequency 1-Hour, for 3 years.\n",
    "idx = pd.date_range(start = '2000-01-01', end = '2001-12-31', freq='1H')\n",
    "abha_yearly = abha[abha.index.isin(idx)]\n",
    "abha_yearly = abha_yearly[['ghi_derived']].copy()"
   ]
  },
  {
   "cell_type": "code",
   "execution_count": 58,
   "id": "a894ecfa",
   "metadata": {
    "ExecuteTime": {
     "end_time": "2022-01-14T08:44:50.250634Z",
     "start_time": "2022-01-14T08:44:49.545766Z"
    }
   },
   "outputs": [
    {
     "data": {
      "image/png": "[encoded data removed]",
      "text/plain": [
       "<Figure size 432x288 with 1 Axes>"
      ]
     },
     "metadata": {},
     "output_type": "display_data"
    }
   ],
   "source": [
    "# The autocorrelation plot\n",
    "plot_acf(abha_yearly);"
   ]
  },
  {
   "cell_type": "code",
   "execution_count": 59,
   "id": "6b68f02b",
   "metadata": {
    "ExecuteTime": {
     "end_time": "2022-01-14T08:44:50.605130Z",
     "start_time": "2022-01-14T08:44:50.255633Z"
    },
    "scrolled": true
   },
   "outputs": [
    {
     "data": {
      "image/png": "[encoded data removed]",
      "text/plain": [
       "<Figure size 432x288 with 1 Axes>"
      ]
     },
     "metadata": {},
     "output_type": "display_data"
    }
   ],
   "source": [
    "# Partial autocorrelation plot to find any trends.\n",
    "plot_pacf(abha_yearly);"
   ]
  },
  {
   "cell_type": "code",
   "execution_count": 60,
   "id": "e40effa4",
   "metadata": {
    "ExecuteTime": {
     "end_time": "2022-01-14T08:44:50.621121Z",
     "start_time": "2022-01-14T08:44:50.609132Z"
    }
   },
   "outputs": [],
   "source": [
    "# Train, Test, Splot\n",
    "\n",
    "train, test = train_test_split(abha_yearly, train_size=0.8, shuffle=False, random_state=42)"
   ]
  },
  {
   "cell_type": "code",
   "execution_count": 61,
   "id": "b48b0a43",
   "metadata": {
    "ExecuteTime": {
     "end_time": "2022-01-14T08:44:50.698072Z",
     "start_time": "2022-01-14T08:44:50.623118Z"
    }
   },
   "outputs": [
    {
     "data": {
      "text/plain": [
       "0"
      ]
     },
     "execution_count": 61,
     "metadata": {},
     "output_type": "execute_result"
    }
   ],
   "source": [
    "# No differncing needed.\n",
    "ndiffs(abha_yearly['ghi_derived'], test='adf')"
   ]
  },
  {
   "cell_type": "code",
   "execution_count": 62,
   "id": "e89bac82",
   "metadata": {
    "ExecuteTime": {
     "end_time": "2022-01-14T08:45:40.897445Z",
     "start_time": "2022-01-14T08:44:50.700071Z"
    }
   },
   "outputs": [
    {
     "name": "stdout",
     "output_type": "stream",
     "text": [
      "                              ARMA Model Results                              \n",
      "==============================================================================\n",
      "Dep. Variable:            ghi_derived   No. Observations:                14015\n",
      "Model:                     ARMA(2, 6)   Log Likelihood              -86801.624\n",
      "Method:                       css-mle   S.D. of innovations            118.427\n",
      "Date:                Fri, 14 Jan 2022   AIC                         173623.248\n",
      "Time:                        11:45:28   BIC                         173698.727\n",
      "Sample:                    01-01-2000   HQIC                        173648.375\n",
      "                         - 08-06-2001                                         \n",
      "=====================================================================================\n",
      "                        coef    std err          z      P>|z|      [0.025      0.975]\n",
      "-------------------------------------------------------------------------------------\n",
      "const               260.7025      2.551    102.197      0.000     255.703     265.702\n",
      "ar.L1.ghi_derived     1.9302      0.001   2397.623      0.000       1.929       1.932\n",
      "ar.L2.ghi_derived    -0.9983      0.001  -1193.478      0.000      -1.000      -0.997\n",
      "ma.L1.ghi_derived    -1.1131      0.008   -134.857      0.000      -1.129      -1.097\n",
      "ma.L2.ghi_derived     0.0896      0.013      7.019      0.000       0.065       0.115\n",
      "ma.L3.ghi_derived    -0.0471      0.013     -3.495      0.000      -0.073      -0.021\n",
      "ma.L4.ghi_derived     0.0048      0.013      0.361      0.718      -0.021       0.031\n",
      "ma.L5.ghi_derived     0.0420      0.013      3.152      0.002       0.016       0.068\n",
      "ma.L6.ghi_derived     0.1973      0.008     23.865      0.000       0.181       0.214\n",
      "                                    Roots                                    \n",
      "=============================================================================\n",
      "                  Real          Imaginary           Modulus         Frequency\n",
      "-----------------------------------------------------------------------------\n",
      "AR.1            0.9668           -0.2590j            1.0009           -0.0417\n",
      "AR.2            0.9668           +0.2590j            1.0009            0.0417\n",
      "MA.1            0.9835           -0.2383j            1.0120           -0.0378\n",
      "MA.2            0.9835           +0.2383j            1.0120            0.0378\n",
      "MA.3            0.2274           -1.3793j            1.3979           -0.2240\n",
      "MA.4            0.2274           +1.3793j            1.3979            0.2240\n",
      "MA.5           -1.3174           -0.8927j            1.5914           -0.4052\n",
      "MA.6           -1.3174           +0.8927j            1.5914            0.4052\n",
      "-----------------------------------------------------------------------------\n"
     ]
    }
   ],
   "source": [
    "# Auto Regressive Integrated Moving Average\n",
    "model = ARIMA(train, order=(2, 0, 6)) # order takes, p, d, q. In this order p:3, d:0, q:7\n",
    "result = model.fit(disp=0)\n",
    "print(result.summary())"
   ]
  },
  {
   "cell_type": "code",
   "execution_count": 63,
   "id": "40b475de",
   "metadata": {
    "ExecuteTime": {
     "end_time": "2022-01-14T08:45:40.927425Z",
     "start_time": "2022-01-14T08:45:40.900441Z"
    }
   },
   "outputs": [],
   "source": [
    "# How many steps into the future to forecast.\n",
    "step = 48\n",
    "\n",
    "# fc = forcasted, se = Std Error, conf = confidence range (upper limit, lower limit)\n",
    "fc, se, conf = result.forecast(step)\n",
    "\n",
    "\n",
    "# Making a series for each one of those for plotting.\n",
    "fc = pd.Series(fc, index=test[:step].index)\n",
    "lower = pd.Series(conf[:, 0], index=test[:step].index)\n",
    "upper = pd.Series(conf[:, 1], index=test[:step].index)\n"
   ]
  },
  {
   "cell_type": "code",
   "execution_count": 64,
   "id": "10aea058",
   "metadata": {
    "ExecuteTime": {
     "end_time": "2022-01-14T08:45:41.666517Z",
     "start_time": "2022-01-14T08:45:40.932423Z"
    }
   },
   "outputs": [
    {
     "data": {
      "image/png": "[encoded data removed]",
      "text/plain": [
       "<Figure size 1152x576 with 1 Axes>"
      ]
     },
     "metadata": {},
     "output_type": "display_data"
    }
   ],
   "source": [
    "# Plotting Actual vs Forecasted\n",
    "\n",
    "plt.figure(figsize=(16, 8), dpi=72)\n",
    "plt.plot(test[:step], label='actual')\n",
    "plt.plot(fc, label='forecast')\n",
    "plt.fill_between(lower.index, lower, upper, color='k', alpha=0.1)\n",
    "plt.title('Forecast vs Actual')\n",
    "plt.xlabel('Date/Time')\n",
    "plt.legend(['Actual', 'Forecast'], loc='upper left');\n",
    "plt.savefig('arima_result')"
   ]
  },
  {
   "cell_type": "code",
   "execution_count": null,
   "id": "f915236c",
   "metadata": {},
   "outputs": [],
   "source": []
  }
 ],
 "metadata": {
  "colab": {
   "collapsed_sections": [],
   "name": "GHI_cleaning.ipynb",
   "provenance": []
  },
  "kernelspec": {
   "display_name": "Python 3",
   "language": "python",
   "name": "python3"
  },
  "language_info": {
   "codemirror_mode": {
    "name": "ipython",
    "version": 3
   },
   "file_extension": ".py",
   "mimetype": "text/x-python",
   "name": "python",
   "nbconvert_exporter": "python",
   "pygments_lexer": "ipython3",
   "version": "3.8.8"
  },
  "varInspector": {
   "cols": {
    "lenName": 16,
    "lenType": 16,
    "lenVar": 40
   },
   "kernels_config": {
    "python": {
     "delete_cmd_postfix": "",
     "delete_cmd_prefix": "del ",
     "library": "var_list.py",
     "varRefreshCmd": "print(var_dic_list())"
    },
    "r": {
     "delete_cmd_postfix": ") ",
     "delete_cmd_prefix": "rm(",
     "library": "var_list.r",
     "varRefreshCmd": "cat(var_dic_list()) "
    }
   },
   "types_to_exclude": [
    "module",
    "function",
    "builtin_function_or_method",
    "instance",
    "_Feature"
   ],
   "window_display": false
  }
 },
 "nbformat": 4,
 "nbformat_minor": 5
}
